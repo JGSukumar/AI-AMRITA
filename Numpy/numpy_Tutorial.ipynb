{
  "nbformat": 4,
  "nbformat_minor": 0,
  "metadata": {
    "colab": {
      "name": "numpy_Tutorial.ipynb",
      "provenance": [],
      "authorship_tag": "ABX9TyPRNmFgfam/Kf2zk6pp3rn9",
      "include_colab_link": true
    },
    "kernelspec": {
      "name": "python3",
      "display_name": "Python 3"
    },
    "language_info": {
      "name": "python"
    }
  },
  "cells": [
    {
      "cell_type": "markdown",
      "metadata": {
        "id": "view-in-github",
        "colab_type": "text"
      },
      "source": [
        "<a href=\"https://colab.research.google.com/github/JGSukumar/AI-AMRITA/blob/main/Numpy/numpy_Tutorial.ipynb\" target=\"_parent\"><img src=\"https://colab.research.google.com/assets/colab-badge.svg\" alt=\"Open In Colab\"/></a>"
      ]
    },
    {
      "cell_type": "code",
      "metadata": {
        "id": "jO5keqPxm8VQ"
      },
      "source": [
        "import numpy as np"
      ],
      "execution_count": 2,
      "outputs": []
    },
    {
      "cell_type": "markdown",
      "metadata": {
        "id": "yh0rBGGhXwnF"
      },
      "source": [
        "Python Lists in Numpy"
      ]
    },
    {
      "cell_type": "code",
      "metadata": {
        "colab": {
          "base_uri": "https://localhost:8080/"
        },
        "id": "OU-ETwCiXzTm",
        "outputId": "4c003812-283b-49d7-bcdc-2408aa810252"
      },
      "source": [
        "myPythonList = [1,9,8,7,3]\n",
        "print(myPythonList)"
      ],
      "execution_count": 1,
      "outputs": [
        {
          "output_type": "stream",
          "text": [
            "[1, 9, 8, 7, 3]\n"
          ],
          "name": "stdout"
        }
      ]
    },
    {
      "cell_type": "markdown",
      "metadata": {
        "id": "r5a2Iyw9dY0e"
      },
      "source": [
        "To convert python list to a numpy array by using the object np.array."
      ]
    },
    {
      "cell_type": "code",
      "metadata": {
        "colab": {
          "base_uri": "https://localhost:8080/"
        },
        "id": "YOUMb43Uda4w",
        "outputId": "5a8a498c-14f6-4ca7-9919-d4bf3140249c"
      },
      "source": [
        "numpy_array_from_list = np.array(myPythonList)\n",
        "numpy_array_from_list"
      ],
      "execution_count": 6,
      "outputs": [
        {
          "output_type": "execute_result",
          "data": {
            "text/plain": [
              "array([1, 9, 8, 7, 3])"
            ]
          },
          "metadata": {
            "tags": []
          },
          "execution_count": 6
        }
      ]
    },
    {
      "cell_type": "markdown",
      "metadata": {
        "id": "8KSt4JImexEU"
      },
      "source": [
        "assigning variable to array"
      ]
    },
    {
      "cell_type": "code",
      "metadata": {
        "colab": {
          "base_uri": "https://localhost:8080/"
        },
        "id": "Rd0mSmYifBGT",
        "outputId": "226ab058-0801-4d63-c68f-027f9545c15b"
      },
      "source": [
        "a  = np.array([1,9,8,7,3])\n",
        "print(a)"
      ],
      "execution_count": 7,
      "outputs": [
        {
          "output_type": "stream",
          "text": [
            "[1 9 8 7 3]\n"
          ],
          "name": "stdout"
        }
      ]
    },
    {
      "cell_type": "markdown",
      "metadata": {
        "id": "gWyUu9_VfG3a"
      },
      "source": [
        "Adding a number to every number in the array"
      ]
    },
    {
      "cell_type": "code",
      "metadata": {
        "colab": {
          "base_uri": "https://localhost:8080/"
        },
        "id": "Y7V1tQGYfP4g",
        "outputId": "82522821-d884-4d22-ae96-7b6676aa9cee"
      },
      "source": [
        "x=numpy_array_from_list + 10\n",
        "print(x)"
      ],
      "execution_count": 8,
      "outputs": [
        {
          "output_type": "stream",
          "text": [
            "[11 19 18 17 13]\n"
          ],
          "name": "stdout"
        }
      ]
    },
    {
      "cell_type": "markdown",
      "metadata": {
        "id": "DixS1raiELsT"
      },
      "source": [
        "To check shape and data type of an array"
      ]
    },
    {
      "cell_type": "code",
      "metadata": {
        "colab": {
          "base_uri": "https://localhost:8080/"
        },
        "id": "0WcMZQ2IEblp",
        "outputId": "65e897e4-449e-422f-ce9e-91e6846cb172"
      },
      "source": [
        "a  = np.array([1,2,3,4])\n",
        "print(a.shape)\n",
        "print(a.dtype)"
      ],
      "execution_count": 3,
      "outputs": [
        {
          "output_type": "stream",
          "text": [
            "(4,)\n",
            "int64\n"
          ],
          "name": "stdout"
        }
      ]
    },
    {
      "cell_type": "markdown",
      "metadata": {
        "id": "9OGpBqLzE6Bl"
      },
      "source": [
        "other datatype"
      ]
    },
    {
      "cell_type": "code",
      "metadata": {
        "colab": {
          "base_uri": "https://localhost:8080/"
        },
        "id": "qmBqdMdKE_Kb",
        "outputId": "6c07c6c6-d81a-408e-caf6-d0fa2e88f9ce"
      },
      "source": [
        "b  = np.array([1.1,2.0,3.2,4.4])\n",
        "print(b.dtype)"
      ],
      "execution_count": 6,
      "outputs": [
        {
          "output_type": "stream",
          "text": [
            "float64\n"
          ],
          "name": "stdout"
        }
      ]
    },
    {
      "cell_type": "markdown",
      "metadata": {
        "id": "7rmr9EInFKOl"
      },
      "source": [
        "2 dimension array"
      ]
    },
    {
      "cell_type": "code",
      "metadata": {
        "colab": {
          "base_uri": "https://localhost:8080/"
        },
        "id": "IhmVSvaEF5UZ",
        "outputId": "e9c73ce2-1eda-445b-e8a3-127e9c97d297"
      },
      "source": [
        "c = np.array([(1,2,3),\n",
        "              (4,5,6)])\n",
        "print(c)"
      ],
      "execution_count": 7,
      "outputs": [
        {
          "output_type": "stream",
          "text": [
            "[[1 2 3]\n",
            " [4 5 6]]\n"
          ],
          "name": "stdout"
        }
      ]
    },
    {
      "cell_type": "markdown",
      "metadata": {
        "id": "d8efk0fZF_7_"
      },
      "source": [
        "3 dimension array"
      ]
    },
    {
      "cell_type": "code",
      "metadata": {
        "colab": {
          "base_uri": "https://localhost:8080/"
        },
        "id": "JJfAAdLuGCYY",
        "outputId": "d4f3bc12-d912-4854-c5ab-0695ec0d01a3"
      },
      "source": [
        "d = np.array([\n",
        "    [[1, 2,3],\n",
        "        [4, 5, 6]],\n",
        "    [[7, 8,9],\n",
        "        [10, 11, 12]]\n",
        "])\n",
        "print(d.shape)\n",
        "(2, 2, 3)"
      ],
      "execution_count": 8,
      "outputs": [
        {
          "output_type": "stream",
          "text": [
            "(2, 2, 3)\n"
          ],
          "name": "stdout"
        },
        {
          "output_type": "execute_result",
          "data": {
            "text/plain": [
              "(2, 2, 3)"
            ]
          },
          "metadata": {
            "tags": []
          },
          "execution_count": 8
        }
      ]
    },
    {
      "cell_type": "markdown",
      "metadata": {
        "id": "V1trjUO5Gm8E"
      },
      "source": [
        "Numpy Zeros"
      ]
    },
    {
      "cell_type": "code",
      "metadata": {
        "colab": {
          "base_uri": "https://localhost:8080/"
        },
        "id": "oqjkdRH6Gg3X",
        "outputId": "ee2a1063-a605-4a03-a9be-38f03007e928"
      },
      "source": [
        "x=np.zeros((2,2), dtype=np.int16)\n",
        "print(x)"
      ],
      "execution_count": 9,
      "outputs": [
        {
          "output_type": "stream",
          "text": [
            "[[0 0]\n",
            " [0 0]]\n"
          ],
          "name": "stdout"
        }
      ]
    },
    {
      "cell_type": "code",
      "metadata": {
        "colab": {
          "base_uri": "https://localhost:8080/"
        },
        "id": "SBjCSrk3G1SD",
        "outputId": "370efe42-506e-474c-a986-aa666a0fdc4e"
      },
      "source": [
        "np.ones((1,2,3), dtype=np.int16)\t"
      ],
      "execution_count": 12,
      "outputs": [
        {
          "output_type": "execute_result",
          "data": {
            "text/plain": [
              "array([[[1, 1, 1],\n",
              "        [1, 1, 1]]], dtype=int16)"
            ]
          },
          "metadata": {
            "tags": []
          },
          "execution_count": 12
        }
      ]
    },
    {
      "cell_type": "markdown",
      "metadata": {
        "id": "03imIOmYLpgE"
      },
      "source": [
        "To reshape data"
      ]
    },
    {
      "cell_type": "code",
      "metadata": {
        "colab": {
          "base_uri": "https://localhost:8080/"
        },
        "id": "mXc6Sq3WLsYm",
        "outputId": "8766611d-afdc-47d7-c0d5-c3b021d79603"
      },
      "source": [
        "e  = np.array([(1,2,3), (4,5,6)])\n",
        "print(e)\n",
        "e.reshape(3,2)"
      ],
      "execution_count": 11,
      "outputs": [
        {
          "output_type": "stream",
          "text": [
            "[[1 2 3]\n",
            " [4 5 6]]\n"
          ],
          "name": "stdout"
        },
        {
          "output_type": "execute_result",
          "data": {
            "text/plain": [
              "array([[1, 2],\n",
              "       [3, 4],\n",
              "       [5, 6]])"
            ]
          },
          "metadata": {
            "tags": []
          },
          "execution_count": 11
        }
      ]
    },
    {
      "cell_type": "markdown",
      "metadata": {
        "id": "K7-NYv_qMC3h"
      },
      "source": [
        "To flatten data"
      ]
    },
    {
      "cell_type": "code",
      "metadata": {
        "colab": {
          "base_uri": "https://localhost:8080/"
        },
        "id": "UdXSxcK3MEyC",
        "outputId": "e55d0b9f-7b85-475d-b2b6-667b30eabfcd"
      },
      "source": [
        "e.flatten()"
      ],
      "execution_count": 13,
      "outputs": [
        {
          "output_type": "execute_result",
          "data": {
            "text/plain": [
              "array([1, 2, 3, 4, 5, 6])"
            ]
          },
          "metadata": {
            "tags": []
          },
          "execution_count": 13
        }
      ]
    },
    {
      "cell_type": "markdown",
      "metadata": {
        "id": "fKinv0MeMN-Q"
      },
      "source": [
        "Horizontal Stack"
      ]
    },
    {
      "cell_type": "code",
      "metadata": {
        "colab": {
          "base_uri": "https://localhost:8080/"
        },
        "id": "k3sBhdnqMRvP",
        "outputId": "fde2806a-013d-4601-f559-04815d38f51d"
      },
      "source": [
        "f = np.array([1,2,3,4])\n",
        "g = np.array([5,6,7,8])\n",
        "\n",
        "print('Horizontal Append:', np.hstack((f, g)))"
      ],
      "execution_count": 14,
      "outputs": [
        {
          "output_type": "stream",
          "text": [
            "Horizontal Append: [1 2 3 4 5 6 7 8]\n"
          ],
          "name": "stdout"
        }
      ]
    },
    {
      "cell_type": "markdown",
      "metadata": {
        "id": "oY2CRRUfMfLS"
      },
      "source": [
        "Vertical Stack"
      ]
    },
    {
      "cell_type": "code",
      "metadata": {
        "colab": {
          "base_uri": "https://localhost:8080/"
        },
        "id": "PWLXRg6IMhJi",
        "outputId": "c35d4ccb-0457-4f31-f303-96fe2045d468"
      },
      "source": [
        "f = np.array([1,2,3])\n",
        "g = np.array([4,5,6])\n",
        "\n",
        "print('Vertical Append:', np.vstack((f, g)))"
      ],
      "execution_count": 16,
      "outputs": [
        {
          "output_type": "stream",
          "text": [
            "Vertical Append: [[1 2 3]\n",
            " [4 5 6]]\n"
          ],
          "name": "stdout"
        }
      ]
    },
    {
      "cell_type": "markdown",
      "metadata": {
        "id": "fQTa46HlMvYA"
      },
      "source": [
        "To generate random numbers"
      ]
    },
    {
      "cell_type": "code",
      "metadata": {
        "colab": {
          "base_uri": "https://localhost:8080/"
        },
        "id": "_N3ohbsBMyLo",
        "outputId": "365bbd79-fccc-49f7-90e9-c8e2effb4fbc"
      },
      "source": [
        "normal_array = np.random.normal(5, 0.5, 10)\n",
        "print(normal_array)"
      ],
      "execution_count": 17,
      "outputs": [
        {
          "output_type": "stream",
          "text": [
            "[4.71063057 5.88674392 5.22909554 4.39229904 5.27985009 4.02424152\n",
            " 4.55748071 4.56736916 5.22496503 5.07566502]\n"
          ],
          "name": "stdout"
        }
      ]
    },
    {
      "cell_type": "markdown",
      "metadata": {
        "id": "sKXEfF-3Oxzf"
      },
      "source": [
        "To convert an input to an array asarray()function is used"
      ]
    },
    {
      "cell_type": "code",
      "metadata": {
        "colab": {
          "base_uri": "https://localhost:8080/"
        },
        "id": "hq86Kw6MO_n3",
        "outputId": "ae94a462-0da7-473b-8b14-6392d119ffa2"
      },
      "source": [
        "A = np.matrix(np.ones((4,4)))\t\t\n",
        "np.array(A)[2]=2\n",
        "print(A)"
      ],
      "execution_count": 18,
      "outputs": [
        {
          "output_type": "stream",
          "text": [
            "[[1. 1. 1. 1.]\n",
            " [1. 1. 1. 1.]\n",
            " [1. 1. 1. 1.]\n",
            " [1. 1. 1. 1.]]\n"
          ],
          "name": "stdout"
        }
      ]
    },
    {
      "cell_type": "code",
      "metadata": {
        "colab": {
          "base_uri": "https://localhost:8080/"
        },
        "id": "KZXeWWjfPZ3X",
        "outputId": "999563c6-448f-4ec7-e8bc-f6bcf35e5eee"
      },
      "source": [
        "np.asarray(A)[2]=2\n",
        "print(A)"
      ],
      "execution_count": 19,
      "outputs": [
        {
          "output_type": "stream",
          "text": [
            "[[1. 1. 1. 1.]\n",
            " [1. 1. 1. 1.]\n",
            " [2. 2. 2. 2.]\n",
            " [1. 1. 1. 1.]]\n"
          ],
          "name": "stdout"
        }
      ]
    },
    {
      "cell_type": "markdown",
      "metadata": {
        "id": "DWb0nmKS0sJ7"
      },
      "source": [
        " numpy.arange() is an inbuilt numpy function that returns an ndarray object containing evenly spaced values within a defined interval."
      ]
    },
    {
      "cell_type": "code",
      "metadata": {
        "colab": {
          "base_uri": "https://localhost:8080/"
        },
        "id": "7UoFq5ds0tDA",
        "outputId": "13b8d725-b4fa-4818-a178-b15aa666eea3"
      },
      "source": [
        "np.arange(1, 10)"
      ],
      "execution_count": 3,
      "outputs": [
        {
          "output_type": "execute_result",
          "data": {
            "text/plain": [
              "array([1, 2, 3, 4, 5, 6, 7, 8, 9])"
            ]
          },
          "metadata": {
            "tags": []
          },
          "execution_count": 3
        }
      ]
    },
    {
      "cell_type": "markdown",
      "metadata": {
        "id": "O23K5vyx1Wch"
      },
      "source": [
        "difference between numbers"
      ]
    },
    {
      "cell_type": "code",
      "metadata": {
        "colab": {
          "base_uri": "https://localhost:8080/"
        },
        "id": "A550an8l1cus",
        "outputId": "72f5cad1-a4f1-41ea-cc49-3239ec47d8e9"
      },
      "source": [
        "np.arange(1, 14, 3)"
      ],
      "execution_count": 4,
      "outputs": [
        {
          "output_type": "execute_result",
          "data": {
            "text/plain": [
              "array([ 1,  4,  7, 10, 13])"
            ]
          },
          "metadata": {
            "tags": []
          },
          "execution_count": 4
        }
      ]
    },
    {
      "cell_type": "markdown",
      "metadata": {
        "id": "Td_r51AL1gSI"
      },
      "source": [
        "example for line space"
      ]
    },
    {
      "cell_type": "code",
      "metadata": {
        "colab": {
          "base_uri": "https://localhost:8080/"
        },
        "id": "jrjwWvLh1lf2",
        "outputId": "35fca2ad-4c99-403f-f3c5-1b87ba088fa9"
      },
      "source": [
        "np.linspace(1.0, 10.0, num=20)"
      ],
      "execution_count": 6,
      "outputs": [
        {
          "output_type": "execute_result",
          "data": {
            "text/plain": [
              "array([ 1.        ,  1.47368421,  1.94736842,  2.42105263,  2.89473684,\n",
              "        3.36842105,  3.84210526,  4.31578947,  4.78947368,  5.26315789,\n",
              "        5.73684211,  6.21052632,  6.68421053,  7.15789474,  7.63157895,\n",
              "        8.10526316,  8.57894737,  9.05263158,  9.52631579, 10.        ])"
            ]
          },
          "metadata": {
            "tags": []
          },
          "execution_count": 6
        }
      ]
    },
    {
      "cell_type": "code",
      "metadata": {
        "colab": {
          "base_uri": "https://localhost:8080/"
        },
        "id": "VRjKYsaD12sY",
        "outputId": "f88579f6-cbb1-45ec-bc45-cfc7800ba3e1"
      },
      "source": [
        "np.linspace(1.0, 5.0, num=5, endpoint=False)"
      ],
      "execution_count": 7,
      "outputs": [
        {
          "output_type": "execute_result",
          "data": {
            "text/plain": [
              "array([1. , 1.8, 2.6, 3.4, 4.2])"
            ]
          },
          "metadata": {
            "tags": []
          },
          "execution_count": 7
        }
      ]
    },
    {
      "cell_type": "markdown",
      "metadata": {
        "id": "r0bQg_F85Aw9"
      },
      "source": [
        "LogSpace returns even spaced numbers on a log scale. Logspace has the same parameters as np.linspace."
      ]
    },
    {
      "cell_type": "code",
      "metadata": {
        "colab": {
          "base_uri": "https://localhost:8080/"
        },
        "id": "C06KILux5EYy",
        "outputId": "178e4515-a6ee-4d85-b5cc-e50c611a5656"
      },
      "source": [
        "np.logspace(3.0, 4.0, num=4)"
      ],
      "execution_count": 3,
      "outputs": [
        {
          "output_type": "execute_result",
          "data": {
            "text/plain": [
              "array([ 1000.        ,  2154.43469003,  4641.58883361, 10000.        ])"
            ]
          },
          "metadata": {
            "tags": []
          },
          "execution_count": 3
        }
      ]
    },
    {
      "cell_type": "markdown",
      "metadata": {
        "id": "KcPi1ZtV5Qra"
      },
      "source": [
        "slicing"
      ]
    },
    {
      "cell_type": "code",
      "metadata": {
        "colab": {
          "base_uri": "https://localhost:8080/"
        },
        "id": "UsSpm_YS5ciR",
        "outputId": "0b7111d2-8e56-4b72-edad-62df8ffc0b13"
      },
      "source": [
        "e  = np.array([(1,2,3), (4,5,6)])\n",
        "print(e)"
      ],
      "execution_count": 4,
      "outputs": [
        {
          "output_type": "stream",
          "text": [
            "[[1 2 3]\n",
            " [4 5 6]]\n"
          ],
          "name": "stdout"
        }
      ]
    },
    {
      "cell_type": "code",
      "metadata": {
        "colab": {
          "base_uri": "https://localhost:8080/"
        },
        "id": "dhLAlOdo5oou",
        "outputId": "0753108a-b6e5-40d2-9399-e9585dcf72a4"
      },
      "source": [
        "print('First row:', e[0])\n",
        "\n",
        "print('Second row:', e[1])"
      ],
      "execution_count": 5,
      "outputs": [
        {
          "output_type": "stream",
          "text": [
            "First row: [1 2 3]\n",
            "Second row: [4 5 6]\n"
          ],
          "name": "stdout"
        }
      ]
    },
    {
      "cell_type": "code",
      "metadata": {
        "colab": {
          "base_uri": "https://localhost:8080/"
        },
        "id": "3REJsYJQ5u1R",
        "outputId": "e1591b55-b549-49b0-a1da-600958ebc6de"
      },
      "source": [
        "print('Second column:', e[:,1])\t"
      ],
      "execution_count": 6,
      "outputs": [
        {
          "output_type": "stream",
          "text": [
            "Second column: [2 5]\n"
          ],
          "name": "stdout"
        }
      ]
    },
    {
      "cell_type": "code",
      "metadata": {
        "colab": {
          "base_uri": "https://localhost:8080/"
        },
        "id": "kEnnMTfC5yUT",
        "outputId": "27c68900-b91a-4c7b-cffb-255591d0b026"
      },
      "source": [
        "print(e[1, :2])"
      ],
      "execution_count": 7,
      "outputs": [
        {
          "output_type": "stream",
          "text": [
            "[4 5]\n"
          ],
          "name": "stdout"
        }
      ]
    },
    {
      "cell_type": "markdown",
      "metadata": {
        "id": "s6NiZ4aw57UT"
      },
      "source": [
        "To find minimum, maximum, percentile standard deviation and variance, etc from the given elements in the array."
      ]
    },
    {
      "cell_type": "code",
      "metadata": {
        "colab": {
          "base_uri": "https://localhost:8080/"
        },
        "id": "tBTWdX855-0a",
        "outputId": "c052ebb6-8e94-413f-d51b-6e8930f2dbc6"
      },
      "source": [
        "normal_array = np.random.normal(5, 0.5, 10)\n",
        "print(normal_array)"
      ],
      "execution_count": 8,
      "outputs": [
        {
          "output_type": "stream",
          "text": [
            "[4.64147324 5.32385225 5.03045266 5.12414152 5.8870773  4.81770902\n",
            " 5.50314505 4.70137646 5.22816896 4.8209578 ]\n"
          ],
          "name": "stdout"
        }
      ]
    },
    {
      "cell_type": "markdown",
      "metadata": {
        "id": "s_SAaGPp6Eyp"
      },
      "source": [
        "To find Minimum"
      ]
    },
    {
      "cell_type": "code",
      "metadata": {
        "colab": {
          "base_uri": "https://localhost:8080/"
        },
        "id": "veJa-XHB6CxQ",
        "outputId": "58e7c086-0a58-42ea-dba6-5c088d9b82f7"
      },
      "source": [
        "print(np.min(normal_array))"
      ],
      "execution_count": 9,
      "outputs": [
        {
          "output_type": "stream",
          "text": [
            "4.641473239010585\n"
          ],
          "name": "stdout"
        }
      ]
    },
    {
      "cell_type": "markdown",
      "metadata": {
        "id": "uEci1qTp6JhM"
      },
      "source": [
        "To find maximum"
      ]
    },
    {
      "cell_type": "code",
      "metadata": {
        "colab": {
          "base_uri": "https://localhost:8080/"
        },
        "id": "pFmk7NhJ6L4j",
        "outputId": "cbbc2ff5-4b12-48ca-c764-d6e232dde6fa"
      },
      "source": [
        "print(np.max(normal_array))"
      ],
      "execution_count": 10,
      "outputs": [
        {
          "output_type": "stream",
          "text": [
            "5.887077303145483\n"
          ],
          "name": "stdout"
        }
      ]
    },
    {
      "cell_type": "markdown",
      "metadata": {
        "id": "j5784DzU6O9Y"
      },
      "source": [
        "To find mean"
      ]
    },
    {
      "cell_type": "code",
      "metadata": {
        "colab": {
          "base_uri": "https://localhost:8080/"
        },
        "id": "nM3j_BQO6RS7",
        "outputId": "83c41424-3b67-4ff7-9e3a-53f9c31a951d"
      },
      "source": [
        "print(np.mean(normal_array))"
      ],
      "execution_count": 11,
      "outputs": [
        {
          "output_type": "stream",
          "text": [
            "5.107835425727302\n"
          ],
          "name": "stdout"
        }
      ]
    },
    {
      "cell_type": "markdown",
      "metadata": {
        "id": "VBZ6UM3Y6YLS"
      },
      "source": [
        "To find median"
      ]
    },
    {
      "cell_type": "code",
      "metadata": {
        "colab": {
          "base_uri": "https://localhost:8080/"
        },
        "id": "hcK191Yu6Zyc",
        "outputId": "24a632f5-83d3-48c7-a334-f929956ec477"
      },
      "source": [
        "print(np.median(normal_array))"
      ],
      "execution_count": 12,
      "outputs": [
        {
          "output_type": "stream",
          "text": [
            "5.077297089530086\n"
          ],
          "name": "stdout"
        }
      ]
    },
    {
      "cell_type": "markdown",
      "metadata": {
        "id": "P7e9FGpg6dGK"
      },
      "source": [
        "To find Standard deviation"
      ]
    },
    {
      "cell_type": "code",
      "metadata": {
        "colab": {
          "base_uri": "https://localhost:8080/"
        },
        "id": "xLhDmDQW6efZ",
        "outputId": "511dffb7-eeb1-402f-b017-7b873fff76ae"
      },
      "source": [
        "print(np.std(normal_array))"
      ],
      "execution_count": 13,
      "outputs": [
        {
          "output_type": "stream",
          "text": [
            "0.37149154751495284\n"
          ],
          "name": "stdout"
        }
      ]
    },
    {
      "cell_type": "markdown",
      "metadata": {
        "id": "9RfInSxi6sV6"
      },
      "source": [
        "dot product in numpy"
      ]
    },
    {
      "cell_type": "code",
      "metadata": {
        "colab": {
          "base_uri": "https://localhost:8080/"
        },
        "id": "DWoJYv9w6upZ",
        "outputId": "3ff8f481-093b-42ae-ace2-5dfee4262237"
      },
      "source": [
        "a = np.array([1,2])\n",
        "b = np.array([4,5])\n",
        "np.dot(a, b)"
      ],
      "execution_count": 17,
      "outputs": [
        {
          "output_type": "execute_result",
          "data": {
            "text/plain": [
              "14"
            ]
          },
          "metadata": {
            "tags": []
          },
          "execution_count": 17
        }
      ]
    },
    {
      "cell_type": "markdown",
      "metadata": {
        "id": "zcY2GEKx66Jn"
      },
      "source": [
        "Matrix Multiplication in numpy"
      ]
    },
    {
      "cell_type": "code",
      "metadata": {
        "colab": {
          "base_uri": "https://localhost:8080/"
        },
        "id": "IL8WbOic689W",
        "outputId": "ec1162bc-ebd8-4bff-a32a-3caf45a26f7c"
      },
      "source": [
        "a = [[1,2],[3,4]] \n",
        "b = [[5,6],[7,8]] \n",
        "np.matmul(a, b)"
      ],
      "execution_count": 16,
      "outputs": [
        {
          "output_type": "execute_result",
          "data": {
            "text/plain": [
              "array([[19, 22],\n",
              "       [43, 50]])"
            ]
          },
          "metadata": {
            "tags": []
          },
          "execution_count": 16
        }
      ]
    },
    {
      "cell_type": "markdown",
      "metadata": {
        "id": "VZWyFCOF7OpT"
      },
      "source": [
        "To calculate inverse a matrix using numpy"
      ]
    },
    {
      "cell_type": "code",
      "metadata": {
        "colab": {
          "base_uri": "https://localhost:8080/"
        },
        "id": "lKbqITxD7Tah",
        "outputId": "4c1001b5-4302-4840-e586-0deed5734c25"
      },
      "source": [
        "A = np.array([[6, 1, 1],\n",
        "              [4, -2, 5],\n",
        "              [2, 8, 7]])\n",
        "\n",
        "print(np.linalg.inv(A))"
      ],
      "execution_count": 18,
      "outputs": [
        {
          "output_type": "stream",
          "text": [
            "[[ 0.17647059 -0.00326797 -0.02287582]\n",
            " [ 0.05882353 -0.13071895  0.08496732]\n",
            " [-0.11764706  0.1503268   0.05228758]]\n"
          ],
          "name": "stdout"
        }
      ]
    },
    {
      "cell_type": "markdown",
      "metadata": {
        "id": "L4No8XTM7diV"
      },
      "source": [
        "To Calculate the determinant of a matrix using NumPy?"
      ]
    },
    {
      "cell_type": "code",
      "metadata": {
        "colab": {
          "base_uri": "https://localhost:8080/"
        },
        "id": "NwPHLS947ha7",
        "outputId": "88b23b2e-6687-40df-c855-697fd0fb3f71"
      },
      "source": [
        "n_array = np.array([[50, 29], [30, 44]])\n",
        "  \n",
        "print(\"Numpy Matrix is:\")\n",
        "print(n_array)\n",
        "  \n",
        "det = np.linalg.det(n_array)\n",
        "  \n",
        "print(\"\\nDeterminant of given 2X2 matrix:\")\n",
        "print(int(det))"
      ],
      "execution_count": 19,
      "outputs": [
        {
          "output_type": "stream",
          "text": [
            "Numpy Matrix is:\n",
            "[[50 29]\n",
            " [30 44]]\n",
            "\n",
            "Determinant of given 2X2 matrix:\n",
            "1330\n"
          ],
          "name": "stdout"
        }
      ]
    },
    {
      "cell_type": "markdown",
      "metadata": {
        "id": "5swrmJAZ7pj7"
      },
      "source": [
        "Rank of a matrix using numpy"
      ]
    },
    {
      "cell_type": "code",
      "metadata": {
        "colab": {
          "base_uri": "https://localhost:8080/"
        },
        "id": "4fYno_h47sdy",
        "outputId": "8aa35f02-3595-4ce6-c9c7-02a117048b22"
      },
      "source": [
        "mx = np.array([[1,1,1],[0,1,2],[1,5,3]])\n",
        "\n",
        "np.linalg.matrix_rank(mx)"
      ],
      "execution_count": 20,
      "outputs": [
        {
          "output_type": "execute_result",
          "data": {
            "text/plain": [
              "3"
            ]
          },
          "metadata": {
            "tags": []
          },
          "execution_count": 20
        }
      ]
    },
    {
      "cell_type": "markdown",
      "metadata": {
        "id": "cRB5Tpxk7zVF"
      },
      "source": [
        "To Calculate Eigenvectors And Eigenvalues With Numpy"
      ]
    },
    {
      "cell_type": "code",
      "metadata": {
        "colab": {
          "base_uri": "https://localhost:8080/"
        },
        "id": "v_ADYPT0707K",
        "outputId": "9859d468-16f9-486a-dd92-a12c7e2bd13b"
      },
      "source": [
        "example_matrix = np.array([\n",
        "  [1,2,3,4],\n",
        "  [5,9,8,7],\n",
        "  [9,5,1,2],\n",
        "  [3,4,1,6]\n",
        "])\n",
        "eigenvalues, eigenvectors = np.linalg.eig(example_matrix)\n",
        "print(eigenvalues, eigenvectors)"
      ],
      "execution_count": 22,
      "outputs": [
        {
          "output_type": "stream",
          "text": [
            "[17.94229064+0.j        -5.21954885+0.j         2.13862911+0.8114655j\n",
            "  2.13862911-0.8114655j] [[ 0.25300503+0.j          0.37150371+0.j         -0.33805377+0.07152088j\n",
            "  -0.33805377-0.07152088j]\n",
            " [ 0.79568043+0.j          0.41257974+0.j          0.75495106+0.j\n",
            "   0.75495106-0.j        ]\n",
            " [ 0.41225949+0.j         -0.81333189+0.j         -0.02626588+0.21547561j\n",
            "  -0.02626588-0.21547561j]\n",
            " [ 0.36458636+0.j         -0.17393731+0.j         -0.46851477-0.20982751j\n",
            "  -0.46851477+0.20982751j]]\n"
          ],
          "name": "stdout"
        }
      ]
    },
    {
      "cell_type": "markdown",
      "metadata": {
        "id": "pfiO2zVi8L4U"
      },
      "source": [
        "To Get diagonal of a matrix"
      ]
    },
    {
      "cell_type": "code",
      "metadata": {
        "colab": {
          "base_uri": "https://localhost:8080/"
        },
        "id": "i2cCwSO-8Mqx",
        "outputId": "a80c89f2-8475-45de-c168-d7ce38f42151"
      },
      "source": [
        "gfg = np.matrix('[6, 2; 3, 4]')\n",
        "\n",
        "diag = gfg.diagonal()\n",
        "   \n",
        "print(diag)"
      ],
      "execution_count": 23,
      "outputs": [
        {
          "output_type": "stream",
          "text": [
            "[[6 4]]\n"
          ],
          "name": "stdout"
        }
      ]
    },
    {
      "cell_type": "markdown",
      "metadata": {
        "id": "R9xIQIUw8TKK"
      },
      "source": [
        "Matrix transposr"
      ]
    },
    {
      "cell_type": "code",
      "metadata": {
        "colab": {
          "base_uri": "https://localhost:8080/"
        },
        "id": "1ubVBeV48V6Y",
        "outputId": "0718301f-655c-4705-cb6a-db182a536f25"
      },
      "source": [
        "gfg = np.matrix('[4, 1; 12, 3]')\n",
        "\n",
        "trans = gfg.transpose()\n",
        "    \n",
        "print(trans)"
      ],
      "execution_count": 24,
      "outputs": [
        {
          "output_type": "stream",
          "text": [
            "[[ 4 12]\n",
            " [ 1  3]]\n"
          ],
          "name": "stdout"
        }
      ]
    },
    {
      "cell_type": "markdown",
      "metadata": {
        "id": "Q6AWbK8T8bCb"
      },
      "source": [
        "To find trace of a matrix"
      ]
    },
    {
      "cell_type": "code",
      "metadata": {
        "colab": {
          "base_uri": "https://localhost:8080/"
        },
        "id": "bFAga4YO8d-s",
        "outputId": "3090a9a1-b425-418c-da10-32ffc134eddc"
      },
      "source": [
        "gfg = np.matrix('[4, 1; 12, 3]')\n",
        "              \n",
        "tracem = gfg.trace()\n",
        "    \n",
        "print(tracem)"
      ],
      "execution_count": 25,
      "outputs": [
        {
          "output_type": "stream",
          "text": [
            "[[7]]\n"
          ],
          "name": "stdout"
        }
      ]
    }
  ]
}