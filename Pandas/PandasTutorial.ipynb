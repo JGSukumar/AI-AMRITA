{
  "nbformat": 4,
  "nbformat_minor": 0,
  "metadata": {
    "colab": {
      "name": "PandasTutorial.ipynb",
      "provenance": [],
      "authorship_tag": "ABX9TyOQnFvq1cH7CPrzzz0m9NIs",
      "include_colab_link": true
    },
    "kernelspec": {
      "name": "python3",
      "display_name": "Python 3"
    },
    "language_info": {
      "name": "python"
    }
  },
  "cells": [
    {
      "cell_type": "markdown",
      "metadata": {
        "id": "view-in-github",
        "colab_type": "text"
      },
      "source": [
        "<a href=\"https://colab.research.google.com/github/JGSukumar/AI-AMRITA/blob/main/Pandas/PandasTutorial.ipynb\" target=\"_parent\"><img src=\"https://colab.research.google.com/assets/colab-badge.svg\" alt=\"Open In Colab\"/></a>"
      ]
    },
    {
      "cell_type": "code",
      "metadata": {
        "id": "p56iRnVAGrUx"
      },
      "source": [
        "import pandas as pd"
      ],
      "execution_count": 3,
      "outputs": []
    },
    {
      "cell_type": "code",
      "metadata": {
        "colab": {
          "base_uri": "https://localhost:8080/"
        },
        "id": "9iy1wZ4vIUof",
        "outputId": "de947f18-6cae-445c-cae8-b198964f246d"
      },
      "source": [
        "from google.colab import drive\n",
        "drive.mount('/content/hdrive')"
      ],
      "execution_count": 4,
      "outputs": [
        {
          "output_type": "stream",
          "text": [
            "Mounted at /content/hdrive\n"
          ],
          "name": "stdout"
        }
      ]
    },
    {
      "cell_type": "code",
      "metadata": {
        "id": "60L3WcecIgQu"
      },
      "source": [
        "DatasetBaseFolder = '/content/hdrive/MyDrive/ColabNotebooks/PandasTl/Datasets/'"
      ],
      "execution_count": 5,
      "outputs": []
    },
    {
      "cell_type": "code",
      "metadata": {
        "id": "KmoG9Zi3JiUZ"
      },
      "source": [
        "movies_df = pd.read_csv(DatasetBaseFolder+\"IMDB-Movie-Data.csv\", index_col=\"Title\")"
      ],
      "execution_count": 6,
      "outputs": []
    },
    {
      "cell_type": "code",
      "metadata": {
        "id": "iAWdFWuyKG1T",
        "colab": {
          "base_uri": "https://localhost:8080/",
          "height": 671
        },
        "outputId": "ae0b5c66-cd0a-439e-9734-701dd167d085"
      },
      "source": [
        "movies_df"
      ],
      "execution_count": 7,
      "outputs": [
        {
          "output_type": "execute_result",
          "data": {
            "text/html": [
              "<div>\n",
              "<style scoped>\n",
              "    .dataframe tbody tr th:only-of-type {\n",
              "        vertical-align: middle;\n",
              "    }\n",
              "\n",
              "    .dataframe tbody tr th {\n",
              "        vertical-align: top;\n",
              "    }\n",
              "\n",
              "    .dataframe thead th {\n",
              "        text-align: right;\n",
              "    }\n",
              "</style>\n",
              "<table border=\"1\" class=\"dataframe\">\n",
              "  <thead>\n",
              "    <tr style=\"text-align: right;\">\n",
              "      <th></th>\n",
              "      <th>Rank</th>\n",
              "      <th>Genre</th>\n",
              "      <th>Description</th>\n",
              "      <th>Director</th>\n",
              "      <th>Actors</th>\n",
              "      <th>Year</th>\n",
              "      <th>Runtime (Minutes)</th>\n",
              "      <th>Rating</th>\n",
              "      <th>Votes</th>\n",
              "      <th>Revenue (Millions)</th>\n",
              "      <th>Metascore</th>\n",
              "    </tr>\n",
              "    <tr>\n",
              "      <th>Title</th>\n",
              "      <th></th>\n",
              "      <th></th>\n",
              "      <th></th>\n",
              "      <th></th>\n",
              "      <th></th>\n",
              "      <th></th>\n",
              "      <th></th>\n",
              "      <th></th>\n",
              "      <th></th>\n",
              "      <th></th>\n",
              "      <th></th>\n",
              "    </tr>\n",
              "  </thead>\n",
              "  <tbody>\n",
              "    <tr>\n",
              "      <th>Guardians of the Galaxy</th>\n",
              "      <td>1</td>\n",
              "      <td>Action,Adventure,Sci-Fi</td>\n",
              "      <td>A group of intergalactic criminals are forced ...</td>\n",
              "      <td>James Gunn</td>\n",
              "      <td>Chris Pratt, Vin Diesel, Bradley Cooper, Zoe S...</td>\n",
              "      <td>2014</td>\n",
              "      <td>121</td>\n",
              "      <td>8.1</td>\n",
              "      <td>757074</td>\n",
              "      <td>333.13</td>\n",
              "      <td>76.0</td>\n",
              "    </tr>\n",
              "    <tr>\n",
              "      <th>Prometheus</th>\n",
              "      <td>2</td>\n",
              "      <td>Adventure,Mystery,Sci-Fi</td>\n",
              "      <td>Following clues to the origin of mankind, a te...</td>\n",
              "      <td>Ridley Scott</td>\n",
              "      <td>Noomi Rapace, Logan Marshall-Green, Michael Fa...</td>\n",
              "      <td>2012</td>\n",
              "      <td>124</td>\n",
              "      <td>7.0</td>\n",
              "      <td>485820</td>\n",
              "      <td>126.46</td>\n",
              "      <td>65.0</td>\n",
              "    </tr>\n",
              "    <tr>\n",
              "      <th>Split</th>\n",
              "      <td>3</td>\n",
              "      <td>Horror,Thriller</td>\n",
              "      <td>Three girls are kidnapped by a man with a diag...</td>\n",
              "      <td>M. Night Shyamalan</td>\n",
              "      <td>James McAvoy, Anya Taylor-Joy, Haley Lu Richar...</td>\n",
              "      <td>2016</td>\n",
              "      <td>117</td>\n",
              "      <td>7.3</td>\n",
              "      <td>157606</td>\n",
              "      <td>138.12</td>\n",
              "      <td>62.0</td>\n",
              "    </tr>\n",
              "    <tr>\n",
              "      <th>Sing</th>\n",
              "      <td>4</td>\n",
              "      <td>Animation,Comedy,Family</td>\n",
              "      <td>In a city of humanoid animals, a hustling thea...</td>\n",
              "      <td>Christophe Lourdelet</td>\n",
              "      <td>Matthew McConaughey,Reese Witherspoon, Seth Ma...</td>\n",
              "      <td>2016</td>\n",
              "      <td>108</td>\n",
              "      <td>7.2</td>\n",
              "      <td>60545</td>\n",
              "      <td>270.32</td>\n",
              "      <td>59.0</td>\n",
              "    </tr>\n",
              "    <tr>\n",
              "      <th>Suicide Squad</th>\n",
              "      <td>5</td>\n",
              "      <td>Action,Adventure,Fantasy</td>\n",
              "      <td>A secret government agency recruits some of th...</td>\n",
              "      <td>David Ayer</td>\n",
              "      <td>Will Smith, Jared Leto, Margot Robbie, Viola D...</td>\n",
              "      <td>2016</td>\n",
              "      <td>123</td>\n",
              "      <td>6.2</td>\n",
              "      <td>393727</td>\n",
              "      <td>325.02</td>\n",
              "      <td>40.0</td>\n",
              "    </tr>\n",
              "    <tr>\n",
              "      <th>...</th>\n",
              "      <td>...</td>\n",
              "      <td>...</td>\n",
              "      <td>...</td>\n",
              "      <td>...</td>\n",
              "      <td>...</td>\n",
              "      <td>...</td>\n",
              "      <td>...</td>\n",
              "      <td>...</td>\n",
              "      <td>...</td>\n",
              "      <td>...</td>\n",
              "      <td>...</td>\n",
              "    </tr>\n",
              "    <tr>\n",
              "      <th>Secret in Their Eyes</th>\n",
              "      <td>996</td>\n",
              "      <td>Crime,Drama,Mystery</td>\n",
              "      <td>A tight-knit team of rising investigators, alo...</td>\n",
              "      <td>Billy Ray</td>\n",
              "      <td>Chiwetel Ejiofor, Nicole Kidman, Julia Roberts...</td>\n",
              "      <td>2015</td>\n",
              "      <td>111</td>\n",
              "      <td>6.2</td>\n",
              "      <td>27585</td>\n",
              "      <td>NaN</td>\n",
              "      <td>45.0</td>\n",
              "    </tr>\n",
              "    <tr>\n",
              "      <th>Hostel: Part II</th>\n",
              "      <td>997</td>\n",
              "      <td>Horror</td>\n",
              "      <td>Three American college students studying abroa...</td>\n",
              "      <td>Eli Roth</td>\n",
              "      <td>Lauren German, Heather Matarazzo, Bijou Philli...</td>\n",
              "      <td>2007</td>\n",
              "      <td>94</td>\n",
              "      <td>5.5</td>\n",
              "      <td>73152</td>\n",
              "      <td>17.54</td>\n",
              "      <td>46.0</td>\n",
              "    </tr>\n",
              "    <tr>\n",
              "      <th>Step Up 2: The Streets</th>\n",
              "      <td>998</td>\n",
              "      <td>Drama,Music,Romance</td>\n",
              "      <td>Romantic sparks occur between two dance studen...</td>\n",
              "      <td>Jon M. Chu</td>\n",
              "      <td>Robert Hoffman, Briana Evigan, Cassie Ventura,...</td>\n",
              "      <td>2008</td>\n",
              "      <td>98</td>\n",
              "      <td>6.2</td>\n",
              "      <td>70699</td>\n",
              "      <td>58.01</td>\n",
              "      <td>50.0</td>\n",
              "    </tr>\n",
              "    <tr>\n",
              "      <th>Search Party</th>\n",
              "      <td>999</td>\n",
              "      <td>Adventure,Comedy</td>\n",
              "      <td>A pair of friends embark on a mission to reuni...</td>\n",
              "      <td>Scot Armstrong</td>\n",
              "      <td>Adam Pally, T.J. Miller, Thomas Middleditch,Sh...</td>\n",
              "      <td>2014</td>\n",
              "      <td>93</td>\n",
              "      <td>5.6</td>\n",
              "      <td>4881</td>\n",
              "      <td>NaN</td>\n",
              "      <td>22.0</td>\n",
              "    </tr>\n",
              "    <tr>\n",
              "      <th>Nine Lives</th>\n",
              "      <td>1000</td>\n",
              "      <td>Comedy,Family,Fantasy</td>\n",
              "      <td>A stuffy businessman finds himself trapped ins...</td>\n",
              "      <td>Barry Sonnenfeld</td>\n",
              "      <td>Kevin Spacey, Jennifer Garner, Robbie Amell,Ch...</td>\n",
              "      <td>2016</td>\n",
              "      <td>87</td>\n",
              "      <td>5.3</td>\n",
              "      <td>12435</td>\n",
              "      <td>19.64</td>\n",
              "      <td>11.0</td>\n",
              "    </tr>\n",
              "  </tbody>\n",
              "</table>\n",
              "<p>1000 rows × 11 columns</p>\n",
              "</div>"
            ],
            "text/plain": [
              "                         Rank  ... Metascore\n",
              "Title                          ...          \n",
              "Guardians of the Galaxy     1  ...      76.0\n",
              "Prometheus                  2  ...      65.0\n",
              "Split                       3  ...      62.0\n",
              "Sing                        4  ...      59.0\n",
              "Suicide Squad               5  ...      40.0\n",
              "...                       ...  ...       ...\n",
              "Secret in Their Eyes      996  ...      45.0\n",
              "Hostel: Part II           997  ...      46.0\n",
              "Step Up 2: The Streets    998  ...      50.0\n",
              "Search Party              999  ...      22.0\n",
              "Nine Lives               1000  ...      11.0\n",
              "\n",
              "[1000 rows x 11 columns]"
            ]
          },
          "metadata": {
            "tags": []
          },
          "execution_count": 7
        }
      ]
    },
    {
      "cell_type": "markdown",
      "metadata": {
        "id": "jDih4VZhieRB"
      },
      "source": [
        "To See first 5 rows"
      ]
    },
    {
      "cell_type": "code",
      "metadata": {
        "colab": {
          "base_uri": "https://localhost:8080/",
          "height": 354
        },
        "id": "QQLXtm2gi_vu",
        "outputId": "5d061262-12da-4b7b-d8d3-0b36e084526e"
      },
      "source": [
        "movies_df.head(5)"
      ],
      "execution_count": 8,
      "outputs": [
        {
          "output_type": "execute_result",
          "data": {
            "text/html": [
              "<div>\n",
              "<style scoped>\n",
              "    .dataframe tbody tr th:only-of-type {\n",
              "        vertical-align: middle;\n",
              "    }\n",
              "\n",
              "    .dataframe tbody tr th {\n",
              "        vertical-align: top;\n",
              "    }\n",
              "\n",
              "    .dataframe thead th {\n",
              "        text-align: right;\n",
              "    }\n",
              "</style>\n",
              "<table border=\"1\" class=\"dataframe\">\n",
              "  <thead>\n",
              "    <tr style=\"text-align: right;\">\n",
              "      <th></th>\n",
              "      <th>Rank</th>\n",
              "      <th>Genre</th>\n",
              "      <th>Description</th>\n",
              "      <th>Director</th>\n",
              "      <th>Actors</th>\n",
              "      <th>Year</th>\n",
              "      <th>Runtime (Minutes)</th>\n",
              "      <th>Rating</th>\n",
              "      <th>Votes</th>\n",
              "      <th>Revenue (Millions)</th>\n",
              "      <th>Metascore</th>\n",
              "    </tr>\n",
              "    <tr>\n",
              "      <th>Title</th>\n",
              "      <th></th>\n",
              "      <th></th>\n",
              "      <th></th>\n",
              "      <th></th>\n",
              "      <th></th>\n",
              "      <th></th>\n",
              "      <th></th>\n",
              "      <th></th>\n",
              "      <th></th>\n",
              "      <th></th>\n",
              "      <th></th>\n",
              "    </tr>\n",
              "  </thead>\n",
              "  <tbody>\n",
              "    <tr>\n",
              "      <th>Guardians of the Galaxy</th>\n",
              "      <td>1</td>\n",
              "      <td>Action,Adventure,Sci-Fi</td>\n",
              "      <td>A group of intergalactic criminals are forced ...</td>\n",
              "      <td>James Gunn</td>\n",
              "      <td>Chris Pratt, Vin Diesel, Bradley Cooper, Zoe S...</td>\n",
              "      <td>2014</td>\n",
              "      <td>121</td>\n",
              "      <td>8.1</td>\n",
              "      <td>757074</td>\n",
              "      <td>333.13</td>\n",
              "      <td>76.0</td>\n",
              "    </tr>\n",
              "    <tr>\n",
              "      <th>Prometheus</th>\n",
              "      <td>2</td>\n",
              "      <td>Adventure,Mystery,Sci-Fi</td>\n",
              "      <td>Following clues to the origin of mankind, a te...</td>\n",
              "      <td>Ridley Scott</td>\n",
              "      <td>Noomi Rapace, Logan Marshall-Green, Michael Fa...</td>\n",
              "      <td>2012</td>\n",
              "      <td>124</td>\n",
              "      <td>7.0</td>\n",
              "      <td>485820</td>\n",
              "      <td>126.46</td>\n",
              "      <td>65.0</td>\n",
              "    </tr>\n",
              "    <tr>\n",
              "      <th>Split</th>\n",
              "      <td>3</td>\n",
              "      <td>Horror,Thriller</td>\n",
              "      <td>Three girls are kidnapped by a man with a diag...</td>\n",
              "      <td>M. Night Shyamalan</td>\n",
              "      <td>James McAvoy, Anya Taylor-Joy, Haley Lu Richar...</td>\n",
              "      <td>2016</td>\n",
              "      <td>117</td>\n",
              "      <td>7.3</td>\n",
              "      <td>157606</td>\n",
              "      <td>138.12</td>\n",
              "      <td>62.0</td>\n",
              "    </tr>\n",
              "    <tr>\n",
              "      <th>Sing</th>\n",
              "      <td>4</td>\n",
              "      <td>Animation,Comedy,Family</td>\n",
              "      <td>In a city of humanoid animals, a hustling thea...</td>\n",
              "      <td>Christophe Lourdelet</td>\n",
              "      <td>Matthew McConaughey,Reese Witherspoon, Seth Ma...</td>\n",
              "      <td>2016</td>\n",
              "      <td>108</td>\n",
              "      <td>7.2</td>\n",
              "      <td>60545</td>\n",
              "      <td>270.32</td>\n",
              "      <td>59.0</td>\n",
              "    </tr>\n",
              "    <tr>\n",
              "      <th>Suicide Squad</th>\n",
              "      <td>5</td>\n",
              "      <td>Action,Adventure,Fantasy</td>\n",
              "      <td>A secret government agency recruits some of th...</td>\n",
              "      <td>David Ayer</td>\n",
              "      <td>Will Smith, Jared Leto, Margot Robbie, Viola D...</td>\n",
              "      <td>2016</td>\n",
              "      <td>123</td>\n",
              "      <td>6.2</td>\n",
              "      <td>393727</td>\n",
              "      <td>325.02</td>\n",
              "      <td>40.0</td>\n",
              "    </tr>\n",
              "  </tbody>\n",
              "</table>\n",
              "</div>"
            ],
            "text/plain": [
              "                         Rank  ... Metascore\n",
              "Title                          ...          \n",
              "Guardians of the Galaxy     1  ...      76.0\n",
              "Prometheus                  2  ...      65.0\n",
              "Split                       3  ...      62.0\n",
              "Sing                        4  ...      59.0\n",
              "Suicide Squad               5  ...      40.0\n",
              "\n",
              "[5 rows x 11 columns]"
            ]
          },
          "metadata": {
            "tags": []
          },
          "execution_count": 8
        }
      ]
    },
    {
      "cell_type": "markdown",
      "metadata": {
        "id": "XGXJWLafjEXE"
      },
      "source": [
        "To See last 5 Rows"
      ]
    },
    {
      "cell_type": "code",
      "metadata": {
        "colab": {
          "base_uri": "https://localhost:8080/",
          "height": 337
        },
        "id": "aW3_mh5EjHQW",
        "outputId": "11076062-2c2d-4796-ad89-ef4f6eba43a8"
      },
      "source": [
        "movies_df.tail(5)"
      ],
      "execution_count": 9,
      "outputs": [
        {
          "output_type": "execute_result",
          "data": {
            "text/html": [
              "<div>\n",
              "<style scoped>\n",
              "    .dataframe tbody tr th:only-of-type {\n",
              "        vertical-align: middle;\n",
              "    }\n",
              "\n",
              "    .dataframe tbody tr th {\n",
              "        vertical-align: top;\n",
              "    }\n",
              "\n",
              "    .dataframe thead th {\n",
              "        text-align: right;\n",
              "    }\n",
              "</style>\n",
              "<table border=\"1\" class=\"dataframe\">\n",
              "  <thead>\n",
              "    <tr style=\"text-align: right;\">\n",
              "      <th></th>\n",
              "      <th>Rank</th>\n",
              "      <th>Genre</th>\n",
              "      <th>Description</th>\n",
              "      <th>Director</th>\n",
              "      <th>Actors</th>\n",
              "      <th>Year</th>\n",
              "      <th>Runtime (Minutes)</th>\n",
              "      <th>Rating</th>\n",
              "      <th>Votes</th>\n",
              "      <th>Revenue (Millions)</th>\n",
              "      <th>Metascore</th>\n",
              "    </tr>\n",
              "    <tr>\n",
              "      <th>Title</th>\n",
              "      <th></th>\n",
              "      <th></th>\n",
              "      <th></th>\n",
              "      <th></th>\n",
              "      <th></th>\n",
              "      <th></th>\n",
              "      <th></th>\n",
              "      <th></th>\n",
              "      <th></th>\n",
              "      <th></th>\n",
              "      <th></th>\n",
              "    </tr>\n",
              "  </thead>\n",
              "  <tbody>\n",
              "    <tr>\n",
              "      <th>Secret in Their Eyes</th>\n",
              "      <td>996</td>\n",
              "      <td>Crime,Drama,Mystery</td>\n",
              "      <td>A tight-knit team of rising investigators, alo...</td>\n",
              "      <td>Billy Ray</td>\n",
              "      <td>Chiwetel Ejiofor, Nicole Kidman, Julia Roberts...</td>\n",
              "      <td>2015</td>\n",
              "      <td>111</td>\n",
              "      <td>6.2</td>\n",
              "      <td>27585</td>\n",
              "      <td>NaN</td>\n",
              "      <td>45.0</td>\n",
              "    </tr>\n",
              "    <tr>\n",
              "      <th>Hostel: Part II</th>\n",
              "      <td>997</td>\n",
              "      <td>Horror</td>\n",
              "      <td>Three American college students studying abroa...</td>\n",
              "      <td>Eli Roth</td>\n",
              "      <td>Lauren German, Heather Matarazzo, Bijou Philli...</td>\n",
              "      <td>2007</td>\n",
              "      <td>94</td>\n",
              "      <td>5.5</td>\n",
              "      <td>73152</td>\n",
              "      <td>17.54</td>\n",
              "      <td>46.0</td>\n",
              "    </tr>\n",
              "    <tr>\n",
              "      <th>Step Up 2: The Streets</th>\n",
              "      <td>998</td>\n",
              "      <td>Drama,Music,Romance</td>\n",
              "      <td>Romantic sparks occur between two dance studen...</td>\n",
              "      <td>Jon M. Chu</td>\n",
              "      <td>Robert Hoffman, Briana Evigan, Cassie Ventura,...</td>\n",
              "      <td>2008</td>\n",
              "      <td>98</td>\n",
              "      <td>6.2</td>\n",
              "      <td>70699</td>\n",
              "      <td>58.01</td>\n",
              "      <td>50.0</td>\n",
              "    </tr>\n",
              "    <tr>\n",
              "      <th>Search Party</th>\n",
              "      <td>999</td>\n",
              "      <td>Adventure,Comedy</td>\n",
              "      <td>A pair of friends embark on a mission to reuni...</td>\n",
              "      <td>Scot Armstrong</td>\n",
              "      <td>Adam Pally, T.J. Miller, Thomas Middleditch,Sh...</td>\n",
              "      <td>2014</td>\n",
              "      <td>93</td>\n",
              "      <td>5.6</td>\n",
              "      <td>4881</td>\n",
              "      <td>NaN</td>\n",
              "      <td>22.0</td>\n",
              "    </tr>\n",
              "    <tr>\n",
              "      <th>Nine Lives</th>\n",
              "      <td>1000</td>\n",
              "      <td>Comedy,Family,Fantasy</td>\n",
              "      <td>A stuffy businessman finds himself trapped ins...</td>\n",
              "      <td>Barry Sonnenfeld</td>\n",
              "      <td>Kevin Spacey, Jennifer Garner, Robbie Amell,Ch...</td>\n",
              "      <td>2016</td>\n",
              "      <td>87</td>\n",
              "      <td>5.3</td>\n",
              "      <td>12435</td>\n",
              "      <td>19.64</td>\n",
              "      <td>11.0</td>\n",
              "    </tr>\n",
              "  </tbody>\n",
              "</table>\n",
              "</div>"
            ],
            "text/plain": [
              "                        Rank  ... Metascore\n",
              "Title                         ...          \n",
              "Secret in Their Eyes     996  ...      45.0\n",
              "Hostel: Part II          997  ...      46.0\n",
              "Step Up 2: The Streets   998  ...      50.0\n",
              "Search Party             999  ...      22.0\n",
              "Nine Lives              1000  ...      11.0\n",
              "\n",
              "[5 rows x 11 columns]"
            ]
          },
          "metadata": {
            "tags": []
          },
          "execution_count": 9
        }
      ]
    },
    {
      "cell_type": "markdown",
      "metadata": {
        "id": "k8bbrj1jjQE0"
      },
      "source": [
        "To check how many rows and columns are there"
      ]
    },
    {
      "cell_type": "code",
      "metadata": {
        "colab": {
          "base_uri": "https://localhost:8080/"
        },
        "id": "mDW8413YjZEs",
        "outputId": "fb2728d8-104f-4825-98bb-d77f430f1dcb"
      },
      "source": [
        "movies_df.shape"
      ],
      "execution_count": 10,
      "outputs": [
        {
          "output_type": "execute_result",
          "data": {
            "text/plain": [
              "(1000, 11)"
            ]
          },
          "metadata": {
            "tags": []
          },
          "execution_count": 10
        }
      ]
    },
    {
      "cell_type": "markdown",
      "metadata": {
        "id": "szZ4l13vjlTX"
      },
      "source": [
        "To get an overview of the dataset"
      ]
    },
    {
      "cell_type": "code",
      "metadata": {
        "colab": {
          "base_uri": "https://localhost:8080/"
        },
        "id": "e83SJqwfj5Sy",
        "outputId": "47377907-ac2e-4b06-a1b5-675d83716f43"
      },
      "source": [
        "movies_df.info()"
      ],
      "execution_count": 12,
      "outputs": [
        {
          "output_type": "stream",
          "text": [
            "<class 'pandas.core.frame.DataFrame'>\n",
            "Index: 1000 entries, Guardians of the Galaxy to Nine Lives\n",
            "Data columns (total 11 columns):\n",
            " #   Column              Non-Null Count  Dtype  \n",
            "---  ------              --------------  -----  \n",
            " 0   Rank                1000 non-null   int64  \n",
            " 1   Genre               1000 non-null   object \n",
            " 2   Description         1000 non-null   object \n",
            " 3   Director            1000 non-null   object \n",
            " 4   Actors              1000 non-null   object \n",
            " 5   Year                1000 non-null   int64  \n",
            " 6   Runtime (Minutes)   1000 non-null   int64  \n",
            " 7   Rating              1000 non-null   float64\n",
            " 8   Votes               1000 non-null   int64  \n",
            " 9   Revenue (Millions)  872 non-null    float64\n",
            " 10  Metascore           936 non-null    float64\n",
            "dtypes: float64(3), int64(4), object(4)\n",
            "memory usage: 133.8+ KB\n"
          ],
          "name": "stdout"
        }
      ]
    },
    {
      "cell_type": "markdown",
      "metadata": {
        "id": "NNVwBmzdj-qO"
      },
      "source": [
        "If you want to get remove the repeat cases"
      ]
    },
    {
      "cell_type": "code",
      "metadata": {
        "id": "cuNGRKW1k3nv"
      },
      "source": [
        "movies_df=movies_df.drop_duplicates(keep=\"first\")"
      ],
      "execution_count": 13,
      "outputs": []
    },
    {
      "cell_type": "markdown",
      "metadata": {
        "id": "B9XtKwtmlEX5"
      },
      "source": [
        "Now checking again after removing duplicates.\n",
        "So there are no duplicates in our data."
      ]
    },
    {
      "cell_type": "code",
      "metadata": {
        "colab": {
          "base_uri": "https://localhost:8080/"
        },
        "id": "VY2QqZA8lHs1",
        "outputId": "1b3a14e9-afaa-4070-bb14-41ec60d8771f"
      },
      "source": [
        "movies_df.info()"
      ],
      "execution_count": 14,
      "outputs": [
        {
          "output_type": "stream",
          "text": [
            "<class 'pandas.core.frame.DataFrame'>\n",
            "Index: 1000 entries, Guardians of the Galaxy to Nine Lives\n",
            "Data columns (total 11 columns):\n",
            " #   Column              Non-Null Count  Dtype  \n",
            "---  ------              --------------  -----  \n",
            " 0   Rank                1000 non-null   int64  \n",
            " 1   Genre               1000 non-null   object \n",
            " 2   Description         1000 non-null   object \n",
            " 3   Director            1000 non-null   object \n",
            " 4   Actors              1000 non-null   object \n",
            " 5   Year                1000 non-null   int64  \n",
            " 6   Runtime (Minutes)   1000 non-null   int64  \n",
            " 7   Rating              1000 non-null   float64\n",
            " 8   Votes               1000 non-null   int64  \n",
            " 9   Revenue (Millions)  872 non-null    float64\n",
            " 10  Metascore           936 non-null    float64\n",
            "dtypes: float64(3), int64(4), object(4)\n",
            "memory usage: 133.8+ KB\n"
          ],
          "name": "stdout"
        }
      ]
    },
    {
      "cell_type": "markdown",
      "metadata": {
        "id": "APjIYaFElZCe"
      },
      "source": [
        "To rename columns\n",
        "First we want to know what are the column names"
      ]
    },
    {
      "cell_type": "code",
      "metadata": {
        "colab": {
          "base_uri": "https://localhost:8080/"
        },
        "id": "FhIRbtUpljQ5",
        "outputId": "417afdc9-d18d-436b-9aa6-1f124dcc1edb"
      },
      "source": [
        "movies_df.columns"
      ],
      "execution_count": 15,
      "outputs": [
        {
          "output_type": "execute_result",
          "data": {
            "text/plain": [
              "Index(['Rank', 'Genre', 'Description', 'Director', 'Actors', 'Year',\n",
              "       'Runtime (Minutes)', 'Rating', 'Votes', 'Revenue (Millions)',\n",
              "       'Metascore'],\n",
              "      dtype='object')"
            ]
          },
          "metadata": {
            "tags": []
          },
          "execution_count": 15
        }
      ]
    },
    {
      "cell_type": "markdown",
      "metadata": {
        "id": "GBaEYY8slnei"
      },
      "source": [
        "Now renaming columns"
      ]
    },
    {
      "cell_type": "code",
      "metadata": {
        "id": "Bg48dfYQlrsH"
      },
      "source": [
        "movies_df.rename(columns={'Runtime (Minutes)' : 'Runtime', 'Revenue (Millions)' : 'Revenue_Millions', 'Director' : 'Directors'}, inplace=True)"
      ],
      "execution_count": 16,
      "outputs": []
    },
    {
      "cell_type": "markdown",
      "metadata": {
        "id": "x7_aXNZsmqhB"
      },
      "source": [
        "Checking again column names"
      ]
    },
    {
      "cell_type": "code",
      "metadata": {
        "colab": {
          "base_uri": "https://localhost:8080/"
        },
        "id": "fEIW9jLCmsvY",
        "outputId": "66221789-7ca8-4e4d-9bcf-3a8a04a1c25c"
      },
      "source": [
        "movies_df.columns"
      ],
      "execution_count": 17,
      "outputs": [
        {
          "output_type": "execute_result",
          "data": {
            "text/plain": [
              "Index(['Rank', 'Genre', 'Description', 'Directors', 'Actors', 'Year',\n",
              "       'Runtime', 'Rating', 'Votes', 'Revenue_Millions', 'Metascore'],\n",
              "      dtype='object')"
            ]
          },
          "metadata": {
            "tags": []
          },
          "execution_count": 17
        }
      ]
    },
    {
      "cell_type": "markdown",
      "metadata": {
        "id": "2PMuuJSomzRb"
      },
      "source": [
        "To chech number of null entries in columns"
      ]
    },
    {
      "cell_type": "code",
      "metadata": {
        "colab": {
          "base_uri": "https://localhost:8080/",
          "height": 450
        },
        "id": "8tFVX9Slm2yY",
        "outputId": "d63dcf29-8a83-4722-e0d3-dd48e41c304a"
      },
      "source": [
        "movies_df.isnull()"
      ],
      "execution_count": 18,
      "outputs": [
        {
          "output_type": "execute_result",
          "data": {
            "text/html": [
              "<div>\n",
              "<style scoped>\n",
              "    .dataframe tbody tr th:only-of-type {\n",
              "        vertical-align: middle;\n",
              "    }\n",
              "\n",
              "    .dataframe tbody tr th {\n",
              "        vertical-align: top;\n",
              "    }\n",
              "\n",
              "    .dataframe thead th {\n",
              "        text-align: right;\n",
              "    }\n",
              "</style>\n",
              "<table border=\"1\" class=\"dataframe\">\n",
              "  <thead>\n",
              "    <tr style=\"text-align: right;\">\n",
              "      <th></th>\n",
              "      <th>Rank</th>\n",
              "      <th>Genre</th>\n",
              "      <th>Description</th>\n",
              "      <th>Directors</th>\n",
              "      <th>Actors</th>\n",
              "      <th>Year</th>\n",
              "      <th>Runtime</th>\n",
              "      <th>Rating</th>\n",
              "      <th>Votes</th>\n",
              "      <th>Revenue_Millions</th>\n",
              "      <th>Metascore</th>\n",
              "    </tr>\n",
              "    <tr>\n",
              "      <th>Title</th>\n",
              "      <th></th>\n",
              "      <th></th>\n",
              "      <th></th>\n",
              "      <th></th>\n",
              "      <th></th>\n",
              "      <th></th>\n",
              "      <th></th>\n",
              "      <th></th>\n",
              "      <th></th>\n",
              "      <th></th>\n",
              "      <th></th>\n",
              "    </tr>\n",
              "  </thead>\n",
              "  <tbody>\n",
              "    <tr>\n",
              "      <th>Guardians of the Galaxy</th>\n",
              "      <td>False</td>\n",
              "      <td>False</td>\n",
              "      <td>False</td>\n",
              "      <td>False</td>\n",
              "      <td>False</td>\n",
              "      <td>False</td>\n",
              "      <td>False</td>\n",
              "      <td>False</td>\n",
              "      <td>False</td>\n",
              "      <td>False</td>\n",
              "      <td>False</td>\n",
              "    </tr>\n",
              "    <tr>\n",
              "      <th>Prometheus</th>\n",
              "      <td>False</td>\n",
              "      <td>False</td>\n",
              "      <td>False</td>\n",
              "      <td>False</td>\n",
              "      <td>False</td>\n",
              "      <td>False</td>\n",
              "      <td>False</td>\n",
              "      <td>False</td>\n",
              "      <td>False</td>\n",
              "      <td>False</td>\n",
              "      <td>False</td>\n",
              "    </tr>\n",
              "    <tr>\n",
              "      <th>Split</th>\n",
              "      <td>False</td>\n",
              "      <td>False</td>\n",
              "      <td>False</td>\n",
              "      <td>False</td>\n",
              "      <td>False</td>\n",
              "      <td>False</td>\n",
              "      <td>False</td>\n",
              "      <td>False</td>\n",
              "      <td>False</td>\n",
              "      <td>False</td>\n",
              "      <td>False</td>\n",
              "    </tr>\n",
              "    <tr>\n",
              "      <th>Sing</th>\n",
              "      <td>False</td>\n",
              "      <td>False</td>\n",
              "      <td>False</td>\n",
              "      <td>False</td>\n",
              "      <td>False</td>\n",
              "      <td>False</td>\n",
              "      <td>False</td>\n",
              "      <td>False</td>\n",
              "      <td>False</td>\n",
              "      <td>False</td>\n",
              "      <td>False</td>\n",
              "    </tr>\n",
              "    <tr>\n",
              "      <th>Suicide Squad</th>\n",
              "      <td>False</td>\n",
              "      <td>False</td>\n",
              "      <td>False</td>\n",
              "      <td>False</td>\n",
              "      <td>False</td>\n",
              "      <td>False</td>\n",
              "      <td>False</td>\n",
              "      <td>False</td>\n",
              "      <td>False</td>\n",
              "      <td>False</td>\n",
              "      <td>False</td>\n",
              "    </tr>\n",
              "    <tr>\n",
              "      <th>...</th>\n",
              "      <td>...</td>\n",
              "      <td>...</td>\n",
              "      <td>...</td>\n",
              "      <td>...</td>\n",
              "      <td>...</td>\n",
              "      <td>...</td>\n",
              "      <td>...</td>\n",
              "      <td>...</td>\n",
              "      <td>...</td>\n",
              "      <td>...</td>\n",
              "      <td>...</td>\n",
              "    </tr>\n",
              "    <tr>\n",
              "      <th>Secret in Their Eyes</th>\n",
              "      <td>False</td>\n",
              "      <td>False</td>\n",
              "      <td>False</td>\n",
              "      <td>False</td>\n",
              "      <td>False</td>\n",
              "      <td>False</td>\n",
              "      <td>False</td>\n",
              "      <td>False</td>\n",
              "      <td>False</td>\n",
              "      <td>True</td>\n",
              "      <td>False</td>\n",
              "    </tr>\n",
              "    <tr>\n",
              "      <th>Hostel: Part II</th>\n",
              "      <td>False</td>\n",
              "      <td>False</td>\n",
              "      <td>False</td>\n",
              "      <td>False</td>\n",
              "      <td>False</td>\n",
              "      <td>False</td>\n",
              "      <td>False</td>\n",
              "      <td>False</td>\n",
              "      <td>False</td>\n",
              "      <td>False</td>\n",
              "      <td>False</td>\n",
              "    </tr>\n",
              "    <tr>\n",
              "      <th>Step Up 2: The Streets</th>\n",
              "      <td>False</td>\n",
              "      <td>False</td>\n",
              "      <td>False</td>\n",
              "      <td>False</td>\n",
              "      <td>False</td>\n",
              "      <td>False</td>\n",
              "      <td>False</td>\n",
              "      <td>False</td>\n",
              "      <td>False</td>\n",
              "      <td>False</td>\n",
              "      <td>False</td>\n",
              "    </tr>\n",
              "    <tr>\n",
              "      <th>Search Party</th>\n",
              "      <td>False</td>\n",
              "      <td>False</td>\n",
              "      <td>False</td>\n",
              "      <td>False</td>\n",
              "      <td>False</td>\n",
              "      <td>False</td>\n",
              "      <td>False</td>\n",
              "      <td>False</td>\n",
              "      <td>False</td>\n",
              "      <td>True</td>\n",
              "      <td>False</td>\n",
              "    </tr>\n",
              "    <tr>\n",
              "      <th>Nine Lives</th>\n",
              "      <td>False</td>\n",
              "      <td>False</td>\n",
              "      <td>False</td>\n",
              "      <td>False</td>\n",
              "      <td>False</td>\n",
              "      <td>False</td>\n",
              "      <td>False</td>\n",
              "      <td>False</td>\n",
              "      <td>False</td>\n",
              "      <td>False</td>\n",
              "      <td>False</td>\n",
              "    </tr>\n",
              "  </tbody>\n",
              "</table>\n",
              "<p>1000 rows × 11 columns</p>\n",
              "</div>"
            ],
            "text/plain": [
              "                          Rank  Genre  ...  Revenue_Millions  Metascore\n",
              "Title                                  ...                             \n",
              "Guardians of the Galaxy  False  False  ...             False      False\n",
              "Prometheus               False  False  ...             False      False\n",
              "Split                    False  False  ...             False      False\n",
              "Sing                     False  False  ...             False      False\n",
              "Suicide Squad            False  False  ...             False      False\n",
              "...                        ...    ...  ...               ...        ...\n",
              "Secret in Their Eyes     False  False  ...              True      False\n",
              "Hostel: Part II          False  False  ...             False      False\n",
              "Step Up 2: The Streets   False  False  ...             False      False\n",
              "Search Party             False  False  ...              True      False\n",
              "Nine Lives               False  False  ...             False      False\n",
              "\n",
              "[1000 rows x 11 columns]"
            ]
          },
          "metadata": {
            "tags": []
          },
          "execution_count": 18
        }
      ]
    },
    {
      "cell_type": "markdown",
      "metadata": {
        "id": "ibGcqNlfnC3J"
      },
      "source": [
        "TO count number of null columns"
      ]
    },
    {
      "cell_type": "code",
      "metadata": {
        "colab": {
          "base_uri": "https://localhost:8080/"
        },
        "id": "kKMrgy4wnGGs",
        "outputId": "d3c83835-0fa7-459a-f076-259ee56d34db"
      },
      "source": [
        "movies_df.isnull().sum()"
      ],
      "execution_count": 19,
      "outputs": [
        {
          "output_type": "execute_result",
          "data": {
            "text/plain": [
              "Rank                  0\n",
              "Genre                 0\n",
              "Description           0\n",
              "Directors             0\n",
              "Actors                0\n",
              "Year                  0\n",
              "Runtime               0\n",
              "Rating                0\n",
              "Votes                 0\n",
              "Revenue_Millions    128\n",
              "Metascore            64\n",
              "dtype: int64"
            ]
          },
          "metadata": {
            "tags": []
          },
          "execution_count": 19
        }
      ]
    },
    {
      "cell_type": "markdown",
      "metadata": {
        "id": "XOylpQIbnMIh"
      },
      "source": [
        "To remove null values"
      ]
    },
    {
      "cell_type": "code",
      "metadata": {
        "id": "TJeFmlAInWXl"
      },
      "source": [
        "movies_dfTmp=movies_df.dropna(axis=0)"
      ],
      "execution_count": 20,
      "outputs": []
    },
    {
      "cell_type": "markdown",
      "metadata": {
        "id": "I4JsZTsmnlj2"
      },
      "source": [
        "Now checking again no of rows and columns"
      ]
    },
    {
      "cell_type": "code",
      "metadata": {
        "colab": {
          "base_uri": "https://localhost:8080/"
        },
        "id": "xLVLiyDnnqbP",
        "outputId": "33fd6de4-9fb6-4b37-f0da-26f4b30532d6"
      },
      "source": [
        "movies_dfTmp.shape"
      ],
      "execution_count": 22,
      "outputs": [
        {
          "output_type": "execute_result",
          "data": {
            "text/plain": [
              "(838, 11)"
            ]
          },
          "metadata": {
            "tags": []
          },
          "execution_count": 22
        }
      ]
    },
    {
      "cell_type": "markdown",
      "metadata": {
        "id": "BuJ9e5lFn2VP"
      },
      "source": [
        "To drop columns containing null values"
      ]
    },
    {
      "cell_type": "code",
      "metadata": {
        "id": "vrKaKq_zn6L2"
      },
      "source": [
        "movies_dfTmp=movies_df.dropna(axis=1)"
      ],
      "execution_count": 23,
      "outputs": []
    },
    {
      "cell_type": "markdown",
      "metadata": {
        "id": "_DdD1Zg-oDJr"
      },
      "source": [
        "Now checking again no of roes and columns"
      ]
    },
    {
      "cell_type": "code",
      "metadata": {
        "colab": {
          "base_uri": "https://localhost:8080/"
        },
        "id": "NydTF_NaoG9a",
        "outputId": "917b13de-4b7e-4d70-d933-37954f25a970"
      },
      "source": [
        "movies_dfTmp.shape"
      ],
      "execution_count": 24,
      "outputs": [
        {
          "output_type": "execute_result",
          "data": {
            "text/plain": [
              "(1000, 9)"
            ]
          },
          "metadata": {
            "tags": []
          },
          "execution_count": 24
        }
      ]
    },
    {
      "cell_type": "markdown",
      "metadata": {
        "id": "i0gUgdL6oSJB"
      },
      "source": [
        "Calculating the mean"
      ]
    },
    {
      "cell_type": "code",
      "metadata": {
        "colab": {
          "base_uri": "https://localhost:8080/"
        },
        "id": "Hmppx_91oVSo",
        "outputId": "650dc16f-7cb8-4f17-a21b-ee7fd33160b3"
      },
      "source": [
        "revenue=movies_df['Revenue_Millions']\n",
        "revenue.head(5)"
      ],
      "execution_count": 26,
      "outputs": [
        {
          "output_type": "execute_result",
          "data": {
            "text/plain": [
              "Title\n",
              "Guardians of the Galaxy    333.13\n",
              "Prometheus                 126.46\n",
              "Split                      138.12\n",
              "Sing                       270.32\n",
              "Suicide Squad              325.02\n",
              "Name: Revenue_Millions, dtype: float64"
            ]
          },
          "metadata": {
            "tags": []
          },
          "execution_count": 26
        }
      ]
    },
    {
      "cell_type": "markdown",
      "metadata": {
        "id": "_n2dxAhno1av"
      },
      "source": [
        "To add mean revenue in null places"
      ]
    },
    {
      "cell_type": "code",
      "metadata": {
        "id": "97MT0eUuo83L"
      },
      "source": [
        "meanRev = revenue.mean(0)\n",
        "revenue.fillna(meanRev, inplace=True)"
      ],
      "execution_count": 27,
      "outputs": []
    },
    {
      "cell_type": "markdown",
      "metadata": {
        "id": "M8HpDhrCpDWv"
      },
      "source": [
        "Now checking again null values"
      ]
    },
    {
      "cell_type": "code",
      "metadata": {
        "colab": {
          "base_uri": "https://localhost:8080/"
        },
        "id": "QIS7tUWYpG75",
        "outputId": "78abef6e-d0ad-4d98-d932-87c52f2d541a"
      },
      "source": [
        "movies_df.isnull().sum()"
      ],
      "execution_count": 28,
      "outputs": [
        {
          "output_type": "execute_result",
          "data": {
            "text/plain": [
              "Rank                 0\n",
              "Genre                0\n",
              "Description          0\n",
              "Directors            0\n",
              "Actors               0\n",
              "Year                 0\n",
              "Runtime              0\n",
              "Rating               0\n",
              "Votes                0\n",
              "Revenue_Millions     0\n",
              "Metascore           64\n",
              "dtype: int64"
            ]
          },
          "metadata": {
            "tags": []
          },
          "execution_count": 28
        }
      ]
    },
    {
      "cell_type": "markdown",
      "metadata": {
        "id": "UuGgbH0WpQF6"
      },
      "source": [
        "To describe the dataset"
      ]
    },
    {
      "cell_type": "code",
      "metadata": {
        "colab": {
          "base_uri": "https://localhost:8080/",
          "height": 297
        },
        "id": "ZpelioEYpSDE",
        "outputId": "3b1c99e3-4d14-40bd-d788-284339bad09e"
      },
      "source": [
        "movies_df.describe()"
      ],
      "execution_count": 30,
      "outputs": [
        {
          "output_type": "execute_result",
          "data": {
            "text/html": [
              "<div>\n",
              "<style scoped>\n",
              "    .dataframe tbody tr th:only-of-type {\n",
              "        vertical-align: middle;\n",
              "    }\n",
              "\n",
              "    .dataframe tbody tr th {\n",
              "        vertical-align: top;\n",
              "    }\n",
              "\n",
              "    .dataframe thead th {\n",
              "        text-align: right;\n",
              "    }\n",
              "</style>\n",
              "<table border=\"1\" class=\"dataframe\">\n",
              "  <thead>\n",
              "    <tr style=\"text-align: right;\">\n",
              "      <th></th>\n",
              "      <th>Rank</th>\n",
              "      <th>Year</th>\n",
              "      <th>Runtime</th>\n",
              "      <th>Rating</th>\n",
              "      <th>Votes</th>\n",
              "      <th>Revenue_Millions</th>\n",
              "      <th>Metascore</th>\n",
              "    </tr>\n",
              "  </thead>\n",
              "  <tbody>\n",
              "    <tr>\n",
              "      <th>count</th>\n",
              "      <td>1000.000000</td>\n",
              "      <td>1000.000000</td>\n",
              "      <td>1000.000000</td>\n",
              "      <td>1000.000000</td>\n",
              "      <td>1.000000e+03</td>\n",
              "      <td>1000.000000</td>\n",
              "      <td>936.000000</td>\n",
              "    </tr>\n",
              "    <tr>\n",
              "      <th>mean</th>\n",
              "      <td>500.500000</td>\n",
              "      <td>2012.783000</td>\n",
              "      <td>113.172000</td>\n",
              "      <td>6.723200</td>\n",
              "      <td>1.698083e+05</td>\n",
              "      <td>82.956376</td>\n",
              "      <td>58.985043</td>\n",
              "    </tr>\n",
              "    <tr>\n",
              "      <th>std</th>\n",
              "      <td>288.819436</td>\n",
              "      <td>3.205962</td>\n",
              "      <td>18.810908</td>\n",
              "      <td>0.945429</td>\n",
              "      <td>1.887626e+05</td>\n",
              "      <td>96.412043</td>\n",
              "      <td>17.194757</td>\n",
              "    </tr>\n",
              "    <tr>\n",
              "      <th>min</th>\n",
              "      <td>1.000000</td>\n",
              "      <td>2006.000000</td>\n",
              "      <td>66.000000</td>\n",
              "      <td>1.900000</td>\n",
              "      <td>6.100000e+01</td>\n",
              "      <td>0.000000</td>\n",
              "      <td>11.000000</td>\n",
              "    </tr>\n",
              "    <tr>\n",
              "      <th>25%</th>\n",
              "      <td>250.750000</td>\n",
              "      <td>2010.000000</td>\n",
              "      <td>100.000000</td>\n",
              "      <td>6.200000</td>\n",
              "      <td>3.630900e+04</td>\n",
              "      <td>17.442500</td>\n",
              "      <td>47.000000</td>\n",
              "    </tr>\n",
              "    <tr>\n",
              "      <th>50%</th>\n",
              "      <td>500.500000</td>\n",
              "      <td>2014.000000</td>\n",
              "      <td>111.000000</td>\n",
              "      <td>6.800000</td>\n",
              "      <td>1.107990e+05</td>\n",
              "      <td>60.375000</td>\n",
              "      <td>59.500000</td>\n",
              "    </tr>\n",
              "    <tr>\n",
              "      <th>75%</th>\n",
              "      <td>750.250000</td>\n",
              "      <td>2016.000000</td>\n",
              "      <td>123.000000</td>\n",
              "      <td>7.400000</td>\n",
              "      <td>2.399098e+05</td>\n",
              "      <td>99.177500</td>\n",
              "      <td>72.000000</td>\n",
              "    </tr>\n",
              "    <tr>\n",
              "      <th>max</th>\n",
              "      <td>1000.000000</td>\n",
              "      <td>2016.000000</td>\n",
              "      <td>191.000000</td>\n",
              "      <td>9.000000</td>\n",
              "      <td>1.791916e+06</td>\n",
              "      <td>936.630000</td>\n",
              "      <td>100.000000</td>\n",
              "    </tr>\n",
              "  </tbody>\n",
              "</table>\n",
              "</div>"
            ],
            "text/plain": [
              "              Rank         Year  ...  Revenue_Millions   Metascore\n",
              "count  1000.000000  1000.000000  ...       1000.000000  936.000000\n",
              "mean    500.500000  2012.783000  ...         82.956376   58.985043\n",
              "std     288.819436     3.205962  ...         96.412043   17.194757\n",
              "min       1.000000  2006.000000  ...          0.000000   11.000000\n",
              "25%     250.750000  2010.000000  ...         17.442500   47.000000\n",
              "50%     500.500000  2014.000000  ...         60.375000   59.500000\n",
              "75%     750.250000  2016.000000  ...         99.177500   72.000000\n",
              "max    1000.000000  2016.000000  ...        936.630000  100.000000\n",
              "\n",
              "[8 rows x 7 columns]"
            ]
          },
          "metadata": {
            "tags": []
          },
          "execution_count": 30
        }
      ]
    },
    {
      "cell_type": "code",
      "metadata": {
        "colab": {
          "base_uri": "https://localhost:8080/"
        },
        "id": "hsd6_497rVRQ",
        "outputId": "034b0b63-6d9a-4941-ad47-815efd269dfe"
      },
      "source": [
        "rating = movies_df['Rating']\n",
        "rating[rating.gt(8.5)]"
      ],
      "execution_count": 35,
      "outputs": [
        {
          "output_type": "execute_result",
          "data": {
            "text/plain": [
              "Title\n",
              "Interstellar        8.6\n",
              "The Dark Knight     9.0\n",
              "Inception           8.8\n",
              "Kimi no na wa       8.6\n",
              "Dangal              8.8\n",
              "The Intouchables    8.6\n",
              "Name: Rating, dtype: float64"
            ]
          },
          "metadata": {
            "tags": []
          },
          "execution_count": 35
        }
      ]
    },
    {
      "cell_type": "markdown",
      "metadata": {
        "id": "LUPJPt0zqGVb"
      },
      "source": [
        "To count"
      ]
    },
    {
      "cell_type": "code",
      "metadata": {
        "colab": {
          "base_uri": "https://localhost:8080/"
        },
        "id": "DzlgdNdLqKR_",
        "outputId": "e8de4b3f-c687-489f-a536-2a8c7feb7cc0"
      },
      "source": [
        "movies_df['Genre'].value_counts()"
      ],
      "execution_count": 32,
      "outputs": [
        {
          "output_type": "execute_result",
          "data": {
            "text/plain": [
              "Action,Adventure,Sci-Fi    50\n",
              "Drama                      48\n",
              "Comedy,Drama,Romance       35\n",
              "Comedy                     32\n",
              "Drama,Romance              31\n",
              "                           ..\n",
              "Action,Horror,Romance       1\n",
              "Action,Comedy,Sport         1\n",
              "Comedy,Horror,Romance       1\n",
              "Adventure,Drama,History     1\n",
              "Drama,Family,Music          1\n",
              "Name: Genre, Length: 207, dtype: int64"
            ]
          },
          "metadata": {
            "tags": []
          },
          "execution_count": 32
        }
      ]
    },
    {
      "cell_type": "markdown",
      "metadata": {
        "id": "1qu4aEbWqmlk"
      },
      "source": [
        "To find corelation"
      ]
    },
    {
      "cell_type": "code",
      "metadata": {
        "colab": {
          "base_uri": "https://localhost:8080/",
          "height": 266
        },
        "id": "bO10QVPMqq90",
        "outputId": "78863473-d688-48e6-9e99-c9a8d997a0ae"
      },
      "source": [
        "movies_df.corr()"
      ],
      "execution_count": 33,
      "outputs": [
        {
          "output_type": "execute_result",
          "data": {
            "text/html": [
              "<div>\n",
              "<style scoped>\n",
              "    .dataframe tbody tr th:only-of-type {\n",
              "        vertical-align: middle;\n",
              "    }\n",
              "\n",
              "    .dataframe tbody tr th {\n",
              "        vertical-align: top;\n",
              "    }\n",
              "\n",
              "    .dataframe thead th {\n",
              "        text-align: right;\n",
              "    }\n",
              "</style>\n",
              "<table border=\"1\" class=\"dataframe\">\n",
              "  <thead>\n",
              "    <tr style=\"text-align: right;\">\n",
              "      <th></th>\n",
              "      <th>Rank</th>\n",
              "      <th>Year</th>\n",
              "      <th>Runtime</th>\n",
              "      <th>Rating</th>\n",
              "      <th>Votes</th>\n",
              "      <th>Revenue_Millions</th>\n",
              "      <th>Metascore</th>\n",
              "    </tr>\n",
              "  </thead>\n",
              "  <tbody>\n",
              "    <tr>\n",
              "      <th>Rank</th>\n",
              "      <td>1.000000</td>\n",
              "      <td>-0.261605</td>\n",
              "      <td>-0.221739</td>\n",
              "      <td>-0.219555</td>\n",
              "      <td>-0.283876</td>\n",
              "      <td>-0.252996</td>\n",
              "      <td>-0.191869</td>\n",
              "    </tr>\n",
              "    <tr>\n",
              "      <th>Year</th>\n",
              "      <td>-0.261605</td>\n",
              "      <td>1.000000</td>\n",
              "      <td>-0.164900</td>\n",
              "      <td>-0.211219</td>\n",
              "      <td>-0.411904</td>\n",
              "      <td>-0.117562</td>\n",
              "      <td>-0.079305</td>\n",
              "    </tr>\n",
              "    <tr>\n",
              "      <th>Runtime</th>\n",
              "      <td>-0.221739</td>\n",
              "      <td>-0.164900</td>\n",
              "      <td>1.000000</td>\n",
              "      <td>0.392214</td>\n",
              "      <td>0.407062</td>\n",
              "      <td>0.247834</td>\n",
              "      <td>0.211978</td>\n",
              "    </tr>\n",
              "    <tr>\n",
              "      <th>Rating</th>\n",
              "      <td>-0.219555</td>\n",
              "      <td>-0.211219</td>\n",
              "      <td>0.392214</td>\n",
              "      <td>1.000000</td>\n",
              "      <td>0.511537</td>\n",
              "      <td>0.189527</td>\n",
              "      <td>0.631897</td>\n",
              "    </tr>\n",
              "    <tr>\n",
              "      <th>Votes</th>\n",
              "      <td>-0.283876</td>\n",
              "      <td>-0.411904</td>\n",
              "      <td>0.407062</td>\n",
              "      <td>0.511537</td>\n",
              "      <td>1.000000</td>\n",
              "      <td>0.607941</td>\n",
              "      <td>0.325684</td>\n",
              "    </tr>\n",
              "    <tr>\n",
              "      <th>Revenue_Millions</th>\n",
              "      <td>-0.252996</td>\n",
              "      <td>-0.117562</td>\n",
              "      <td>0.247834</td>\n",
              "      <td>0.189527</td>\n",
              "      <td>0.607941</td>\n",
              "      <td>1.000000</td>\n",
              "      <td>0.133328</td>\n",
              "    </tr>\n",
              "    <tr>\n",
              "      <th>Metascore</th>\n",
              "      <td>-0.191869</td>\n",
              "      <td>-0.079305</td>\n",
              "      <td>0.211978</td>\n",
              "      <td>0.631897</td>\n",
              "      <td>0.325684</td>\n",
              "      <td>0.133328</td>\n",
              "      <td>1.000000</td>\n",
              "    </tr>\n",
              "  </tbody>\n",
              "</table>\n",
              "</div>"
            ],
            "text/plain": [
              "                      Rank      Year  ...  Revenue_Millions  Metascore\n",
              "Rank              1.000000 -0.261605  ...         -0.252996  -0.191869\n",
              "Year             -0.261605  1.000000  ...         -0.117562  -0.079305\n",
              "Runtime          -0.221739 -0.164900  ...          0.247834   0.211978\n",
              "Rating           -0.219555 -0.211219  ...          0.189527   0.631897\n",
              "Votes            -0.283876 -0.411904  ...          0.607941   0.325684\n",
              "Revenue_Millions -0.252996 -0.117562  ...          1.000000   0.133328\n",
              "Metascore        -0.191869 -0.079305  ...          0.133328   1.000000\n",
              "\n",
              "[7 rows x 7 columns]"
            ]
          },
          "metadata": {
            "tags": []
          },
          "execution_count": 33
        }
      ]
    },
    {
      "cell_type": "markdown",
      "metadata": {
        "id": "CPOWZWxqq058"
      },
      "source": [
        "Slicing along columns"
      ]
    },
    {
      "cell_type": "code",
      "metadata": {
        "colab": {
          "base_uri": "https://localhost:8080/"
        },
        "id": "7EtbDgp7q5Ox",
        "outputId": "13f051d4-aa94-4886-858f-b456eb0a48eb"
      },
      "source": [
        "subset = movies_df[['Genre', 'Rating']]\n",
        "type(subset)"
      ],
      "execution_count": 34,
      "outputs": [
        {
          "output_type": "execute_result",
          "data": {
            "text/plain": [
              "pandas.core.frame.DataFrame"
            ]
          },
          "metadata": {
            "tags": []
          },
          "execution_count": 34
        }
      ]
    },
    {
      "cell_type": "markdown",
      "metadata": {
        "id": "ShK6JeG0ryDG"
      },
      "source": [
        "Slicing along rows"
      ]
    },
    {
      "cell_type": "code",
      "metadata": {
        "colab": {
          "base_uri": "https://localhost:8080/"
        },
        "id": "_-aV3rw0rzvz",
        "outputId": "f5c77dca-b5a7-4500-c006-59f4070abfd9"
      },
      "source": [
        "movies_df.loc['Prometheus']\n",
        "movies_df.iloc[1]"
      ],
      "execution_count": 36,
      "outputs": [
        {
          "output_type": "execute_result",
          "data": {
            "text/plain": [
              "Rank                                                                2\n",
              "Genre                                        Adventure,Mystery,Sci-Fi\n",
              "Description         Following clues to the origin of mankind, a te...\n",
              "Directors                                                Ridley Scott\n",
              "Actors              Noomi Rapace, Logan Marshall-Green, Michael Fa...\n",
              "Year                                                             2012\n",
              "Runtime                                                           124\n",
              "Rating                                                              7\n",
              "Votes                                                          485820\n",
              "Revenue_Millions                                               126.46\n",
              "Metascore                                                          65\n",
              "Name: Prometheus, dtype: object"
            ]
          },
          "metadata": {
            "tags": []
          },
          "execution_count": 36
        }
      ]
    },
    {
      "cell_type": "code",
      "metadata": {
        "colab": {
          "base_uri": "https://localhost:8080/",
          "height": 258
        },
        "id": "adCeG2wMsTXt",
        "outputId": "cce67167-772d-4b99-93e1-a7808a7500d7"
      },
      "source": [
        "movie_subset = movies_df.iloc[1:4]\n",
        "movie_subset"
      ],
      "execution_count": 37,
      "outputs": [
        {
          "output_type": "execute_result",
          "data": {
            "text/html": [
              "<div>\n",
              "<style scoped>\n",
              "    .dataframe tbody tr th:only-of-type {\n",
              "        vertical-align: middle;\n",
              "    }\n",
              "\n",
              "    .dataframe tbody tr th {\n",
              "        vertical-align: top;\n",
              "    }\n",
              "\n",
              "    .dataframe thead th {\n",
              "        text-align: right;\n",
              "    }\n",
              "</style>\n",
              "<table border=\"1\" class=\"dataframe\">\n",
              "  <thead>\n",
              "    <tr style=\"text-align: right;\">\n",
              "      <th></th>\n",
              "      <th>Rank</th>\n",
              "      <th>Genre</th>\n",
              "      <th>Description</th>\n",
              "      <th>Directors</th>\n",
              "      <th>Actors</th>\n",
              "      <th>Year</th>\n",
              "      <th>Runtime</th>\n",
              "      <th>Rating</th>\n",
              "      <th>Votes</th>\n",
              "      <th>Revenue_Millions</th>\n",
              "      <th>Metascore</th>\n",
              "    </tr>\n",
              "    <tr>\n",
              "      <th>Title</th>\n",
              "      <th></th>\n",
              "      <th></th>\n",
              "      <th></th>\n",
              "      <th></th>\n",
              "      <th></th>\n",
              "      <th></th>\n",
              "      <th></th>\n",
              "      <th></th>\n",
              "      <th></th>\n",
              "      <th></th>\n",
              "      <th></th>\n",
              "    </tr>\n",
              "  </thead>\n",
              "  <tbody>\n",
              "    <tr>\n",
              "      <th>Prometheus</th>\n",
              "      <td>2</td>\n",
              "      <td>Adventure,Mystery,Sci-Fi</td>\n",
              "      <td>Following clues to the origin of mankind, a te...</td>\n",
              "      <td>Ridley Scott</td>\n",
              "      <td>Noomi Rapace, Logan Marshall-Green, Michael Fa...</td>\n",
              "      <td>2012</td>\n",
              "      <td>124</td>\n",
              "      <td>7.0</td>\n",
              "      <td>485820</td>\n",
              "      <td>126.46</td>\n",
              "      <td>65.0</td>\n",
              "    </tr>\n",
              "    <tr>\n",
              "      <th>Split</th>\n",
              "      <td>3</td>\n",
              "      <td>Horror,Thriller</td>\n",
              "      <td>Three girls are kidnapped by a man with a diag...</td>\n",
              "      <td>M. Night Shyamalan</td>\n",
              "      <td>James McAvoy, Anya Taylor-Joy, Haley Lu Richar...</td>\n",
              "      <td>2016</td>\n",
              "      <td>117</td>\n",
              "      <td>7.3</td>\n",
              "      <td>157606</td>\n",
              "      <td>138.12</td>\n",
              "      <td>62.0</td>\n",
              "    </tr>\n",
              "    <tr>\n",
              "      <th>Sing</th>\n",
              "      <td>4</td>\n",
              "      <td>Animation,Comedy,Family</td>\n",
              "      <td>In a city of humanoid animals, a hustling thea...</td>\n",
              "      <td>Christophe Lourdelet</td>\n",
              "      <td>Matthew McConaughey,Reese Witherspoon, Seth Ma...</td>\n",
              "      <td>2016</td>\n",
              "      <td>108</td>\n",
              "      <td>7.2</td>\n",
              "      <td>60545</td>\n",
              "      <td>270.32</td>\n",
              "      <td>59.0</td>\n",
              "    </tr>\n",
              "  </tbody>\n",
              "</table>\n",
              "</div>"
            ],
            "text/plain": [
              "            Rank                     Genre  ... Revenue_Millions Metascore\n",
              "Title                                       ...                           \n",
              "Prometheus     2  Adventure,Mystery,Sci-Fi  ...           126.46      65.0\n",
              "Split          3           Horror,Thriller  ...           138.12      62.0\n",
              "Sing           4   Animation,Comedy,Family  ...           270.32      59.0\n",
              "\n",
              "[3 rows x 11 columns]"
            ]
          },
          "metadata": {
            "tags": []
          },
          "execution_count": 37
        }
      ]
    },
    {
      "cell_type": "markdown",
      "metadata": {
        "id": "hrLDiNTQsmim"
      },
      "source": [
        "To select movies based on directors"
      ]
    },
    {
      "cell_type": "code",
      "metadata": {
        "colab": {
          "base_uri": "https://localhost:8080/",
          "height": 405
        },
        "id": "BIdjwm3dsqSm",
        "outputId": "37e3540c-61ff-4116-db7d-457001af9850"
      },
      "source": [
        "moviesByRidley = movies_df[(movies_df['Directors'] == \"Ridley Scott\")]\n",
        "moviesByRidley.head(5)"
      ],
      "execution_count": 39,
      "outputs": [
        {
          "output_type": "execute_result",
          "data": {
            "text/html": [
              "<div>\n",
              "<style scoped>\n",
              "    .dataframe tbody tr th:only-of-type {\n",
              "        vertical-align: middle;\n",
              "    }\n",
              "\n",
              "    .dataframe tbody tr th {\n",
              "        vertical-align: top;\n",
              "    }\n",
              "\n",
              "    .dataframe thead th {\n",
              "        text-align: right;\n",
              "    }\n",
              "</style>\n",
              "<table border=\"1\" class=\"dataframe\">\n",
              "  <thead>\n",
              "    <tr style=\"text-align: right;\">\n",
              "      <th></th>\n",
              "      <th>Rank</th>\n",
              "      <th>Genre</th>\n",
              "      <th>Description</th>\n",
              "      <th>Directors</th>\n",
              "      <th>Actors</th>\n",
              "      <th>Year</th>\n",
              "      <th>Runtime</th>\n",
              "      <th>Rating</th>\n",
              "      <th>Votes</th>\n",
              "      <th>Revenue_Millions</th>\n",
              "      <th>Metascore</th>\n",
              "    </tr>\n",
              "    <tr>\n",
              "      <th>Title</th>\n",
              "      <th></th>\n",
              "      <th></th>\n",
              "      <th></th>\n",
              "      <th></th>\n",
              "      <th></th>\n",
              "      <th></th>\n",
              "      <th></th>\n",
              "      <th></th>\n",
              "      <th></th>\n",
              "      <th></th>\n",
              "      <th></th>\n",
              "    </tr>\n",
              "  </thead>\n",
              "  <tbody>\n",
              "    <tr>\n",
              "      <th>Prometheus</th>\n",
              "      <td>2</td>\n",
              "      <td>Adventure,Mystery,Sci-Fi</td>\n",
              "      <td>Following clues to the origin of mankind, a te...</td>\n",
              "      <td>Ridley Scott</td>\n",
              "      <td>Noomi Rapace, Logan Marshall-Green, Michael Fa...</td>\n",
              "      <td>2012</td>\n",
              "      <td>124</td>\n",
              "      <td>7.0</td>\n",
              "      <td>485820</td>\n",
              "      <td>126.46</td>\n",
              "      <td>65.0</td>\n",
              "    </tr>\n",
              "    <tr>\n",
              "      <th>The Martian</th>\n",
              "      <td>103</td>\n",
              "      <td>Adventure,Drama,Sci-Fi</td>\n",
              "      <td>An astronaut becomes stranded on Mars after hi...</td>\n",
              "      <td>Ridley Scott</td>\n",
              "      <td>Matt Damon, Jessica Chastain, Kristen Wiig, Ka...</td>\n",
              "      <td>2015</td>\n",
              "      <td>144</td>\n",
              "      <td>8.0</td>\n",
              "      <td>556097</td>\n",
              "      <td>228.43</td>\n",
              "      <td>80.0</td>\n",
              "    </tr>\n",
              "    <tr>\n",
              "      <th>Robin Hood</th>\n",
              "      <td>388</td>\n",
              "      <td>Action,Adventure,Drama</td>\n",
              "      <td>In 12th century England, Robin and his band of...</td>\n",
              "      <td>Ridley Scott</td>\n",
              "      <td>Russell Crowe, Cate Blanchett, Matthew Macfady...</td>\n",
              "      <td>2010</td>\n",
              "      <td>140</td>\n",
              "      <td>6.7</td>\n",
              "      <td>221117</td>\n",
              "      <td>105.22</td>\n",
              "      <td>53.0</td>\n",
              "    </tr>\n",
              "    <tr>\n",
              "      <th>American Gangster</th>\n",
              "      <td>471</td>\n",
              "      <td>Biography,Crime,Drama</td>\n",
              "      <td>In 1970s America, a detective works to bring d...</td>\n",
              "      <td>Ridley Scott</td>\n",
              "      <td>Denzel Washington, Russell Crowe, Chiwetel Eji...</td>\n",
              "      <td>2007</td>\n",
              "      <td>157</td>\n",
              "      <td>7.8</td>\n",
              "      <td>337835</td>\n",
              "      <td>130.13</td>\n",
              "      <td>76.0</td>\n",
              "    </tr>\n",
              "    <tr>\n",
              "      <th>Exodus: Gods and Kings</th>\n",
              "      <td>517</td>\n",
              "      <td>Action,Adventure,Drama</td>\n",
              "      <td>The defiant leader Moses rises up against the ...</td>\n",
              "      <td>Ridley Scott</td>\n",
              "      <td>Christian Bale, Joel Edgerton, Ben Kingsley, S...</td>\n",
              "      <td>2014</td>\n",
              "      <td>150</td>\n",
              "      <td>6.0</td>\n",
              "      <td>137299</td>\n",
              "      <td>65.01</td>\n",
              "      <td>52.0</td>\n",
              "    </tr>\n",
              "  </tbody>\n",
              "</table>\n",
              "</div>"
            ],
            "text/plain": [
              "                        Rank  ... Metascore\n",
              "Title                         ...          \n",
              "Prometheus                 2  ...      65.0\n",
              "The Martian              103  ...      80.0\n",
              "Robin Hood               388  ...      53.0\n",
              "American Gangster        471  ...      76.0\n",
              "Exodus: Gods and Kings   517  ...      52.0\n",
              "\n",
              "[5 rows x 11 columns]"
            ]
          },
          "metadata": {
            "tags": []
          },
          "execution_count": 39
        }
      ]
    },
    {
      "cell_type": "markdown",
      "metadata": {
        "id": "dNk7BemUtB8I"
      },
      "source": [
        "To select movies based on directors and ratings"
      ]
    },
    {
      "cell_type": "code",
      "metadata": {
        "colab": {
          "base_uri": "https://localhost:8080/",
          "height": 224
        },
        "id": "AZS28VhdtEDh",
        "outputId": "63ef6e4f-71a8-489c-a70c-d77f2c9ce098"
      },
      "source": [
        "moviesByRidley = movies_df[(movies_df['Directors'] == \"Ridley Scott\") & movies_df['Rating'].gt(7)]\n",
        "moviesByRidley.head(5)"
      ],
      "execution_count": 51,
      "outputs": [
        {
          "output_type": "execute_result",
          "data": {
            "text/html": [
              "<div>\n",
              "<style scoped>\n",
              "    .dataframe tbody tr th:only-of-type {\n",
              "        vertical-align: middle;\n",
              "    }\n",
              "\n",
              "    .dataframe tbody tr th {\n",
              "        vertical-align: top;\n",
              "    }\n",
              "\n",
              "    .dataframe thead th {\n",
              "        text-align: right;\n",
              "    }\n",
              "</style>\n",
              "<table border=\"1\" class=\"dataframe\">\n",
              "  <thead>\n",
              "    <tr style=\"text-align: right;\">\n",
              "      <th></th>\n",
              "      <th>Rank</th>\n",
              "      <th>Genre</th>\n",
              "      <th>Description</th>\n",
              "      <th>Directors</th>\n",
              "      <th>Actors</th>\n",
              "      <th>Year</th>\n",
              "      <th>Runtime</th>\n",
              "      <th>Rating</th>\n",
              "      <th>Votes</th>\n",
              "      <th>Revenue_Millions</th>\n",
              "      <th>Metascore</th>\n",
              "    </tr>\n",
              "    <tr>\n",
              "      <th>Title</th>\n",
              "      <th></th>\n",
              "      <th></th>\n",
              "      <th></th>\n",
              "      <th></th>\n",
              "      <th></th>\n",
              "      <th></th>\n",
              "      <th></th>\n",
              "      <th></th>\n",
              "      <th></th>\n",
              "      <th></th>\n",
              "      <th></th>\n",
              "    </tr>\n",
              "  </thead>\n",
              "  <tbody>\n",
              "    <tr>\n",
              "      <th>The Martian</th>\n",
              "      <td>103</td>\n",
              "      <td>Adventure,Drama,Sci-Fi</td>\n",
              "      <td>An astronaut becomes stranded on Mars after hi...</td>\n",
              "      <td>Ridley Scott</td>\n",
              "      <td>Matt Damon, Jessica Chastain, Kristen Wiig, Ka...</td>\n",
              "      <td>2015</td>\n",
              "      <td>144</td>\n",
              "      <td>8.0</td>\n",
              "      <td>556097</td>\n",
              "      <td>228.43</td>\n",
              "      <td>80.0</td>\n",
              "    </tr>\n",
              "    <tr>\n",
              "      <th>American Gangster</th>\n",
              "      <td>471</td>\n",
              "      <td>Biography,Crime,Drama</td>\n",
              "      <td>In 1970s America, a detective works to bring d...</td>\n",
              "      <td>Ridley Scott</td>\n",
              "      <td>Denzel Washington, Russell Crowe, Chiwetel Eji...</td>\n",
              "      <td>2007</td>\n",
              "      <td>157</td>\n",
              "      <td>7.8</td>\n",
              "      <td>337835</td>\n",
              "      <td>130.13</td>\n",
              "      <td>76.0</td>\n",
              "    </tr>\n",
              "    <tr>\n",
              "      <th>Body of Lies</th>\n",
              "      <td>738</td>\n",
              "      <td>Action,Drama,Romance</td>\n",
              "      <td>A CIA agent on the ground in Jordan hunts down...</td>\n",
              "      <td>Ridley Scott</td>\n",
              "      <td>Leonardo DiCaprio, Russell Crowe, Mark Strong,...</td>\n",
              "      <td>2008</td>\n",
              "      <td>128</td>\n",
              "      <td>7.1</td>\n",
              "      <td>182305</td>\n",
              "      <td>39.38</td>\n",
              "      <td>57.0</td>\n",
              "    </tr>\n",
              "  </tbody>\n",
              "</table>\n",
              "</div>"
            ],
            "text/plain": [
              "                   Rank                   Genre  ... Revenue_Millions Metascore\n",
              "Title                                            ...                           \n",
              "The Martian         103  Adventure,Drama,Sci-Fi  ...           228.43      80.0\n",
              "American Gangster   471   Biography,Crime,Drama  ...           130.13      76.0\n",
              "Body of Lies        738    Action,Drama,Romance  ...            39.38      57.0\n",
              "\n",
              "[3 rows x 11 columns]"
            ]
          },
          "metadata": {
            "tags": []
          },
          "execution_count": 51
        }
      ]
    },
    {
      "cell_type": "markdown",
      "metadata": {
        "id": "f267qFVKt_5J"
      },
      "source": [
        "To check all movies that were released between 2005 and 2010, have a rating above 8.0, but made below the 25th percentile in revenue."
      ]
    },
    {
      "cell_type": "code",
      "metadata": {
        "colab": {
          "base_uri": "https://localhost:8080/",
          "height": 306
        },
        "id": "1i-IMUGvuCGl",
        "outputId": "fdac7076-4c32-4e81-981b-f2c39e8800c2"
      },
      "source": [
        "movies_df[\n",
        "    ((movies_df['Year'] >= 2005) & (movies_df['Year'] <= 2010))\n",
        "    & (movies_df['Rating'] > 8.0)\n",
        "    & (movies_df['Revenue_Millions'] < movies_df['Revenue_Millions'].quantile(0.25))\n",
        "]"
      ],
      "execution_count": 56,
      "outputs": [
        {
          "output_type": "execute_result",
          "data": {
            "text/html": [
              "<div>\n",
              "<style scoped>\n",
              "    .dataframe tbody tr th:only-of-type {\n",
              "        vertical-align: middle;\n",
              "    }\n",
              "\n",
              "    .dataframe tbody tr th {\n",
              "        vertical-align: top;\n",
              "    }\n",
              "\n",
              "    .dataframe thead th {\n",
              "        text-align: right;\n",
              "    }\n",
              "</style>\n",
              "<table border=\"1\" class=\"dataframe\">\n",
              "  <thead>\n",
              "    <tr style=\"text-align: right;\">\n",
              "      <th></th>\n",
              "      <th>Rank</th>\n",
              "      <th>Genre</th>\n",
              "      <th>Description</th>\n",
              "      <th>Directors</th>\n",
              "      <th>Actors</th>\n",
              "      <th>Year</th>\n",
              "      <th>Runtime</th>\n",
              "      <th>Rating</th>\n",
              "      <th>Votes</th>\n",
              "      <th>Revenue_Millions</th>\n",
              "      <th>Metascore</th>\n",
              "    </tr>\n",
              "    <tr>\n",
              "      <th>Title</th>\n",
              "      <th></th>\n",
              "      <th></th>\n",
              "      <th></th>\n",
              "      <th></th>\n",
              "      <th></th>\n",
              "      <th></th>\n",
              "      <th></th>\n",
              "      <th></th>\n",
              "      <th></th>\n",
              "      <th></th>\n",
              "      <th></th>\n",
              "    </tr>\n",
              "  </thead>\n",
              "  <tbody>\n",
              "    <tr>\n",
              "      <th>3 Idiots</th>\n",
              "      <td>431</td>\n",
              "      <td>Comedy,Drama</td>\n",
              "      <td>Two friends are searching for their long lost ...</td>\n",
              "      <td>Rajkumar Hirani</td>\n",
              "      <td>Aamir Khan, Madhavan, Mona Singh, Sharman Joshi</td>\n",
              "      <td>2009</td>\n",
              "      <td>170</td>\n",
              "      <td>8.4</td>\n",
              "      <td>238789</td>\n",
              "      <td>6.52</td>\n",
              "      <td>67.0</td>\n",
              "    </tr>\n",
              "    <tr>\n",
              "      <th>The Lives of Others</th>\n",
              "      <td>477</td>\n",
              "      <td>Drama,Thriller</td>\n",
              "      <td>In 1984 East Berlin, an agent of the secret po...</td>\n",
              "      <td>Florian Henckel von Donnersmarck</td>\n",
              "      <td>Ulrich Mühe, Martina Gedeck,Sebastian Koch, Ul...</td>\n",
              "      <td>2006</td>\n",
              "      <td>137</td>\n",
              "      <td>8.5</td>\n",
              "      <td>278103</td>\n",
              "      <td>11.28</td>\n",
              "      <td>89.0</td>\n",
              "    </tr>\n",
              "    <tr>\n",
              "      <th>Incendies</th>\n",
              "      <td>714</td>\n",
              "      <td>Drama,Mystery,War</td>\n",
              "      <td>Twins journey to the Middle East to discover t...</td>\n",
              "      <td>Denis Villeneuve</td>\n",
              "      <td>Lubna Azabal, Mélissa Désormeaux-Poulin, Maxim...</td>\n",
              "      <td>2010</td>\n",
              "      <td>131</td>\n",
              "      <td>8.2</td>\n",
              "      <td>92863</td>\n",
              "      <td>6.86</td>\n",
              "      <td>80.0</td>\n",
              "    </tr>\n",
              "    <tr>\n",
              "      <th>Taare Zameen Par</th>\n",
              "      <td>992</td>\n",
              "      <td>Drama,Family,Music</td>\n",
              "      <td>An eight-year-old boy is thought to be a lazy ...</td>\n",
              "      <td>Aamir Khan</td>\n",
              "      <td>Darsheel Safary, Aamir Khan, Tanay Chheda, Sac...</td>\n",
              "      <td>2007</td>\n",
              "      <td>165</td>\n",
              "      <td>8.5</td>\n",
              "      <td>102697</td>\n",
              "      <td>1.20</td>\n",
              "      <td>42.0</td>\n",
              "    </tr>\n",
              "  </tbody>\n",
              "</table>\n",
              "</div>"
            ],
            "text/plain": [
              "                     Rank               Genre  ... Revenue_Millions Metascore\n",
              "Title                                          ...                           \n",
              "3 Idiots              431        Comedy,Drama  ...             6.52      67.0\n",
              "The Lives of Others   477      Drama,Thriller  ...            11.28      89.0\n",
              "Incendies             714   Drama,Mystery,War  ...             6.86      80.0\n",
              "Taare Zameen Par      992  Drama,Family,Music  ...             1.20      42.0\n",
              "\n",
              "[4 rows x 11 columns]"
            ]
          },
          "metadata": {
            "tags": []
          },
          "execution_count": 56
        }
      ]
    },
    {
      "cell_type": "code",
      "metadata": {
        "id": "jDE2cOvnuqXc"
      },
      "source": [
        "import matplotlib.pyplot as plt\n",
        "plt.rcParams.update({'font.size': 20, 'figure.figsize': (10, 8)})"
      ],
      "execution_count": 57,
      "outputs": []
    },
    {
      "cell_type": "markdown",
      "metadata": {
        "id": "9TrdiC3LuwbX"
      },
      "source": [
        "For categorical variables utilize Bar Charts* and Boxplots.\n",
        "For continuous variables utilize Histograms, Scatterplots, Line graphs, and Boxplots."
      ]
    },
    {
      "cell_type": "code",
      "metadata": {
        "colab": {
          "base_uri": "https://localhost:8080/",
          "height": 540
        },
        "id": "99T-zi_Zusa5",
        "outputId": "3416e25c-04be-4f09-92e8-2e57d0366c71"
      },
      "source": [
        "movies_df.plot(kind='scatter', x='Rating', y='Revenue_Millions', title='Revenue (millions) vs Rating');"
      ],
      "execution_count": 65,
      "outputs": [
        {
          "output_type": "display_data",
          "data": {
            "image/png": "[encoded data removed]",
            "text/plain": [
              "<Figure size 720x576 with 1 Axes>"
            ]
          },
          "metadata": {
            "tags": [],
            "needs_background": "light"
          }
        }
      ]
    },
    {
      "cell_type": "code",
      "metadata": {
        "colab": {
          "base_uri": "https://localhost:8080/",
          "height": 517
        },
        "id": "qK64Ahm4vcXG",
        "outputId": "6b6ed77f-45e4-4b6d-a139-598520014537"
      },
      "source": [
        "movies_df['Rating'].plot(kind='hist', title='Rating');"
      ],
      "execution_count": 66,
      "outputs": [
        {
          "output_type": "display_data",
          "data": {
            "image/png": "[encoded data removed]",
            "text/plain": [
              "<Figure size 720x576 with 1 Axes>"
            ]
          },
          "metadata": {
            "tags": [],
            "needs_background": "light"
          }
        }
      ]
    },
    {
      "cell_type": "code",
      "metadata": {
        "colab": {
          "base_uri": "https://localhost:8080/",
          "height": 492
        },
        "id": "mcyQZ42Jvgdd",
        "outputId": "02310ae5-374a-48b6-db54-595d4da14fa2"
      },
      "source": [
        "movies_df['Rating'].plot(kind=\"box\");"
      ],
      "execution_count": 67,
      "outputs": [
        {
          "output_type": "display_data",
          "data": {
            "image/png": "[encoded data removed]",
            "text/plain": [
              "<Figure size 720x576 with 1 Axes>"
            ]
          },
          "metadata": {
            "tags": [],
            "needs_background": "light"
          }
        }
      ]
    }
  ]
}